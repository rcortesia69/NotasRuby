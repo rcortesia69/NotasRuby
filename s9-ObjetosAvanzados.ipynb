{
 "cells": [
  {
   "cell_type": "markdown",
   "metadata": {},
   "source": [
    "# Objetos Avanzados"
   ]
  },
  {
   "cell_type": "markdown",
   "metadata": {},
   "source": [
    "# Constructor\n",
    "\n",
    "Permite asignar valores iniciales. Por defecto, hay que definirlo como un método `initialize`. Puede recibir argumentos para pasar valores por defecto."
   ]
  },
  {
   "cell_type": "code",
   "execution_count": 9,
   "metadata": {
    "collapsed": false
   },
   "outputs": [
    {
     "name": "stdout",
     "output_type": "stream",
     "text": [
      "10\n"
     ]
    }
   ],
   "source": [
    "class PersonaTipo2\n",
    "  def initialize\n",
    "    @edad = 0\n",
    "  end\n",
    "  \n",
    "  def envejecer\n",
    "    @edad += 1\n",
    "  end\n",
    "  \n",
    "  def mostrar_edad\n",
    "    puts @edad\n",
    "  end\n",
    "end\n",
    "\n",
    "p1 = PersonaTipo2.new \n",
    "10.times do\n",
    "  p1.envejecer\n",
    "end\n",
    "\n",
    "p1.mostrar_edad    "
   ]
  },
  {
   "cell_type": "markdown",
   "metadata": {},
   "source": [
    "También se pueden recibir argumentos en el método constructor."
   ]
  },
  {
   "cell_type": "code",
   "execution_count": 10,
   "metadata": {
    "collapsed": false
   },
   "outputs": [
    {
     "name": "stdout",
     "output_type": "stream",
     "text": [
      "15\n"
     ]
    }
   ],
   "source": [
    "class PersonaTipo2\n",
    "  def initialize(edad = 5)\n",
    "    @edad = edad\n",
    "  end\n",
    "  \n",
    "  def envejecer\n",
    "    @edad += 1\n",
    "  end\n",
    "  \n",
    "  def mostrar_edad\n",
    "    puts @edad\n",
    "  end\n",
    "end\n",
    "\n",
    "p1 = PersonaTipo2.new \n",
    "10.times do\n",
    "  p1.envejecer\n",
    "end\n",
    "\n",
    "p1.mostrar_edad   "
   ]
  },
  {
   "cell_type": "markdown",
   "metadata": {},
   "source": [
    "También puede pasar argumentos en una nueva persona"
   ]
  },
  {
   "cell_type": "code",
   "execution_count": 11,
   "metadata": {
    "collapsed": false
   },
   "outputs": [
    {
     "name": "stdout",
     "output_type": "stream",
     "text": [
      "31\n"
     ]
    }
   ],
   "source": [
    "p1 = PersonaTipo2.new(21)\n",
    "10.times do\n",
    "  p1.envejecer\n",
    "end\n",
    "\n",
    "p1.mostrar_edad "
   ]
  },
  {
   "cell_type": "markdown",
   "metadata": {},
   "source": [
    "# Getters & Setters\n",
    "\n",
    "Crear un método que permita acceder la edad desde afuera. Attribute Accessor (`attr_accessor`), permite crear dos métodos: uno para leer el valor y otro para modificar el valor.\n"
   ]
  },
  {
   "cell_type": "code",
   "execution_count": 12,
   "metadata": {
    "collapsed": false
   },
   "outputs": [
    {
     "name": "stdout",
     "output_type": "stream",
     "text": [
      "31\n",
      "\n"
     ]
    }
   ],
   "source": [
    "class PersonaTipo2\n",
    "  attr_accessor :edad\n",
    "  def initialize(edad = 5)\n",
    "    @edad = edad\n",
    "  end\n",
    "  \n",
    "  def envejecer\n",
    "    @edad += 1\n",
    "  end\n",
    "end\n",
    "\n",
    "p1 = PersonaTipo2.new \n",
    "p1.edad = 31\n",
    "puts p1.mostrar_edad "
   ]
  },
  {
   "cell_type": "markdown",
   "metadata": {},
   "source": [
    "# El misterio del perro sin edad\n",
    "![guau](guau.jpeg \"El perro sin edad\")\n",
    "\n",
    "Código original:"
   ]
  },
  {
   "cell_type": "code",
   "execution_count": 13,
   "metadata": {
    "collapsed": false
   },
   "outputs": [
    {
     "name": "stdout",
     "output_type": "stream",
     "text": [
      "10\n"
     ]
    },
    {
     "data": {
      "text/plain": [
       "8"
      ]
     },
     "execution_count": 13,
     "metadata": {},
     "output_type": "execute_result"
    }
   ],
   "source": [
    "class Perro\n",
    "  def initialize(edad)\n",
    "    @edad = edad\n",
    "  end\n",
    "end\n",
    "\n",
    "guau1 = Perro.new 10\n",
    "puts guau1.edad\n",
    "guau1.edad = 8\n"
   ]
  },
  {
   "cell_type": "markdown",
   "metadata": {},
   "source": [
    "El error yace en que en ruby no se puede acceder de forma directa a las variables. Falta el `attr_accessor`"
   ]
  },
  {
   "cell_type": "markdown",
   "metadata": {},
   "source": [
    "# Getters & Setters rejoinder"
   ]
  },
  {
   "cell_type": "code",
   "execution_count": 14,
   "metadata": {
    "collapsed": false
   },
   "outputs": [
    {
     "name": "stdout",
     "output_type": "stream",
     "text": [
      "10\n"
     ]
    },
    {
     "data": {
      "text/plain": [
       "8"
      ]
     },
     "execution_count": 14,
     "metadata": {},
     "output_type": "execute_result"
    }
   ],
   "source": [
    "class Perro\n",
    "  attr_accessor: edad\n",
    "  def initialize(edad)\n",
    "    @edad = edad\n",
    "  end\n",
    "end\n",
    "\n",
    "guau1 = Perro.new 10\n",
    "puts guau1.edad\n",
    "guau1.edad = 8"
   ]
  },
  {
   "cell_type": "markdown",
   "metadata": {},
   "source": [
    "Los métodos _getter_ y _setters_ permiten obtener o establecer valores, respectivamente.\n",
    "\n",
    "| Attribute    |  Función\n",
    "|--------------|:-----------|\n",
    "|`attr_accessor`| Define los los métodos `getter` y `setter`|\n",
    "|`attr_reader`  | Define el método `setter`|\n",
    "|`attr_writer`  | Define el método `getter`|\n"
   ]
  },
  {
   "cell_type": "code",
   "execution_count": 1,
   "metadata": {
    "collapsed": false
   },
   "outputs": [
    {
     "name": "stdout",
     "output_type": "stream",
     "text": [
      "18\n"
     ]
    }
   ],
   "source": [
    "class Perro\n",
    "  def initialize(edad)\n",
    "    @edad = edad\n",
    "  end\n",
    "  \n",
    "  # getter\n",
    "  def edad\n",
    "    @edad\n",
    "  end\n",
    "  \n",
    "  # setter\n",
    "  def set_edad(edad)\n",
    "    @edad = edad\n",
    "  end\n",
    "end\n",
    "\n",
    "guau1 = Perro.new 12\n",
    "guau1.set_edad(18)\n",
    "puts guau1.edad\n"
   ]
  },
  {
   "cell_type": "markdown",
   "metadata": {
    "collapsed": true
   },
   "source": [
    "Este código se reexpresa de forma sucinta via `attr_accessor`"
   ]
  },
  {
   "cell_type": "code",
   "execution_count": 3,
   "metadata": {
    "collapsed": false
   },
   "outputs": [
    {
     "data": {
      "text/plain": [
       ":initialize"
      ]
     },
     "execution_count": 3,
     "metadata": {},
     "output_type": "execute_result"
    }
   ],
   "source": [
    "class Perro\n",
    "  attr_accessor :edad\n",
    "  def initialize(edad)\n",
    "    @edad\n",
    "  end\n",
    "end"
   ]
  },
  {
   "cell_type": "markdown",
   "metadata": {},
   "source": [
    "## Ejercicios\n",
    "\n",
    "> Modificar el código para acceder al nombre y modificar las notas"
   ]
  },
  {
   "cell_type": "code",
   "execution_count": 8,
   "metadata": {
    "collapsed": false
   },
   "outputs": [
    {
     "name": "stdout",
     "output_type": "stream",
     "text": [
      "Humberto\n"
     ]
    }
   ],
   "source": [
    "class Alumno\n",
    "  attr_reader :nombre, :notas\n",
    "  def initialize()\n",
    "    @notas = [2, 5, 7]\n",
    "    @nombre = \"Humberto\"\n",
    "  end\n",
    "end\n",
    "\n",
    "puts Alumno.new.nombre"
   ]
  },
  {
   "cell_type": "code",
   "execution_count": 9,
   "metadata": {
    "collapsed": false
   },
   "outputs": [
    {
     "name": "stdout",
     "output_type": "stream",
     "text": [
      "[2, 5, 7]"
     ]
    }
   ],
   "source": [
    "print Alumno.new.notas"
   ]
  },
  {
   "cell_type": "markdown",
   "metadata": {},
   "source": [
    "> Ejercicio Store"
   ]
  },
  {
   "cell_type": "code",
   "execution_count": 13,
   "metadata": {
    "collapsed": false
   },
   "outputs": [
    {
     "name": "stdout",
     "output_type": "stream",
     "text": [
      "S1\n"
     ]
    }
   ],
   "source": [
    "class Store\n",
    "  attr_accessor :name\n",
    "  def initialize(name)\n",
    "    @name = name\n",
    "  end\n",
    "end\n",
    "\n",
    "store = Store.new(\"S1\")\n",
    "puts store.name"
   ]
  },
  {
   "cell_type": "code",
   "execution_count": 15,
   "metadata": {
    "collapsed": false
   },
   "outputs": [
    {
     "data": {
      "text/plain": [
       "5"
      ]
     },
     "execution_count": 15,
     "metadata": {},
     "output_type": "execute_result"
    }
   ],
   "source": [
    "class Product\n",
    "  attr_accessor :stock\n",
    "  def initialize\n",
    "    @stock = 0\n",
    "  end\n",
    "end\n",
    "\n",
    "p1 = Product.new\n",
    "p1.stock = 5"
   ]
  },
  {
   "cell_type": "markdown",
   "metadata": {},
   "source": [
    "## Quiz Rápido\n",
    "\n",
    "Identifique el error al llamar las clases del siguiente código"
   ]
  },
  {
   "cell_type": "code",
   "execution_count": 17,
   "metadata": {
    "collapsed": false
   },
   "outputs": [
    {
     "data": {
      "text/plain": [
       ":initialize"
      ]
     },
     "execution_count": 17,
     "metadata": {},
     "output_type": "execute_result"
    }
   ],
   "source": [
    "class Alumno\n",
    "  attr_accessor \n",
    "  def initialize()\n",
    "    @notas = []\n",
    "    nombre = \"Humberto\"\n",
    "  end\n",
    "end"
   ]
  },
  {
   "cell_type": "code",
   "execution_count": 18,
   "metadata": {
    "collapsed": false
   },
   "outputs": [
    {
     "ename": "NoMethodError",
     "evalue": "undefined method `notas' for Alumno:Class",
     "output_type": "error",
     "traceback": [
      "\u001b[31mNoMethodError\u001b[0m: undefined method `notas' for Alumno:Class",
      "\u001b[37m<main>:in `<main>'\u001b[0m",
      "\u001b[37m/Users/gncstzmr-wrkstt/.rvm/gems/ruby-2.4.1/gems/iruby-0.3/lib/iruby/backend.rb:44:in `eval'\u001b[0m",
      "\u001b[37m/Users/gncstzmr-wrkstt/.rvm/gems/ruby-2.4.1/gems/iruby-0.3/lib/iruby/backend.rb:44:in `eval'\u001b[0m",
      "\u001b[37m/Users/gncstzmr-wrkstt/.rvm/gems/ruby-2.4.1/gems/iruby-0.3/lib/iruby/backend.rb:12:in `eval'\u001b[0m",
      "\u001b[37m/Users/gncstzmr-wrkstt/.rvm/gems/ruby-2.4.1/gems/iruby-0.3/lib/iruby/kernel.rb:87:in `execute_request'\u001b[0m",
      "\u001b[37m/Users/gncstzmr-wrkstt/.rvm/gems/ruby-2.4.1/gems/iruby-0.3/lib/iruby/kernel.rb:47:in `dispatch'\u001b[0m",
      "\u001b[37m/Users/gncstzmr-wrkstt/.rvm/gems/ruby-2.4.1/gems/iruby-0.3/lib/iruby/kernel.rb:37:in `run'\u001b[0m",
      "\u001b[37m/Users/gncstzmr-wrkstt/.rvm/gems/ruby-2.4.1/gems/iruby-0.3/lib/iruby/command.rb:70:in `run_kernel'\u001b[0m",
      "\u001b[37m/Users/gncstzmr-wrkstt/.rvm/gems/ruby-2.4.1/gems/iruby-0.3/lib/iruby/command.rb:34:in `run'\u001b[0m",
      "\u001b[37m/Users/gncstzmr-wrkstt/.rvm/gems/ruby-2.4.1/gems/iruby-0.3/bin/iruby:5:in `<top (required)>'\u001b[0m",
      "\u001b[37m/Users/gncstzmr-wrkstt/.rvm/gems/ruby-2.4.1/bin/iruby:22:in `load'\u001b[0m",
      "\u001b[37m/Users/gncstzmr-wrkstt/.rvm/gems/ruby-2.4.1/bin/iruby:22:in `<main>'\u001b[0m",
      "\u001b[37m/Users/gncstzmr-wrkstt/.rvm/gems/ruby-2.4.1/bin/ruby_executable_hooks:15:in `eval'\u001b[0m",
      "\u001b[37m/Users/gncstzmr-wrkstt/.rvm/gems/ruby-2.4.1/bin/ruby_executable_hooks:15:in `<main>'\u001b[0m"
     ]
    }
   ],
   "source": [
    "Alumno.notas"
   ]
  },
  {
   "cell_type": "code",
   "execution_count": 19,
   "metadata": {
    "collapsed": false
   },
   "outputs": [
    {
     "data": {
      "text/plain": [
       "[]"
      ]
     },
     "execution_count": 19,
     "metadata": {},
     "output_type": "execute_result"
    }
   ],
   "source": [
    "Alumno.new.notas"
   ]
  },
  {
   "cell_type": "code",
   "execution_count": 20,
   "metadata": {
    "collapsed": false
   },
   "outputs": [
    {
     "ename": "NoMethodError",
     "evalue": "undefined method `nombre' for Alumno:Class",
     "output_type": "error",
     "traceback": [
      "\u001b[31mNoMethodError\u001b[0m: undefined method `nombre' for Alumno:Class",
      "\u001b[37m<main>:in `<main>'\u001b[0m",
      "\u001b[37m/Users/gncstzmr-wrkstt/.rvm/gems/ruby-2.4.1/gems/iruby-0.3/lib/iruby/backend.rb:44:in `eval'\u001b[0m",
      "\u001b[37m/Users/gncstzmr-wrkstt/.rvm/gems/ruby-2.4.1/gems/iruby-0.3/lib/iruby/backend.rb:44:in `eval'\u001b[0m",
      "\u001b[37m/Users/gncstzmr-wrkstt/.rvm/gems/ruby-2.4.1/gems/iruby-0.3/lib/iruby/backend.rb:12:in `eval'\u001b[0m",
      "\u001b[37m/Users/gncstzmr-wrkstt/.rvm/gems/ruby-2.4.1/gems/iruby-0.3/lib/iruby/kernel.rb:87:in `execute_request'\u001b[0m",
      "\u001b[37m/Users/gncstzmr-wrkstt/.rvm/gems/ruby-2.4.1/gems/iruby-0.3/lib/iruby/kernel.rb:47:in `dispatch'\u001b[0m",
      "\u001b[37m/Users/gncstzmr-wrkstt/.rvm/gems/ruby-2.4.1/gems/iruby-0.3/lib/iruby/kernel.rb:37:in `run'\u001b[0m",
      "\u001b[37m/Users/gncstzmr-wrkstt/.rvm/gems/ruby-2.4.1/gems/iruby-0.3/lib/iruby/command.rb:70:in `run_kernel'\u001b[0m",
      "\u001b[37m/Users/gncstzmr-wrkstt/.rvm/gems/ruby-2.4.1/gems/iruby-0.3/lib/iruby/command.rb:34:in `run'\u001b[0m",
      "\u001b[37m/Users/gncstzmr-wrkstt/.rvm/gems/ruby-2.4.1/gems/iruby-0.3/bin/iruby:5:in `<top (required)>'\u001b[0m",
      "\u001b[37m/Users/gncstzmr-wrkstt/.rvm/gems/ruby-2.4.1/bin/iruby:22:in `load'\u001b[0m",
      "\u001b[37m/Users/gncstzmr-wrkstt/.rvm/gems/ruby-2.4.1/bin/iruby:22:in `<main>'\u001b[0m",
      "\u001b[37m/Users/gncstzmr-wrkstt/.rvm/gems/ruby-2.4.1/bin/ruby_executable_hooks:15:in `eval'\u001b[0m",
      "\u001b[37m/Users/gncstzmr-wrkstt/.rvm/gems/ruby-2.4.1/bin/ruby_executable_hooks:15:in `<main>'\u001b[0m"
     ]
    }
   ],
   "source": [
    "Alumno.nombre"
   ]
  },
  {
   "cell_type": "code",
   "execution_count": 21,
   "metadata": {
    "collapsed": false
   },
   "outputs": [
    {
     "data": {
      "text/plain": [
       "\"Humberto\""
      ]
     },
     "execution_count": 21,
     "metadata": {},
     "output_type": "execute_result"
    }
   ],
   "source": [
    "Alumno.new.nombre"
   ]
  },
  {
   "cell_type": "markdown",
   "metadata": {},
   "source": [
    "### Errores:\n",
    "\n",
    "* `Alumno.notas`: Notas no está definido como método. No hay getter en la nota\n",
    "* `Alumno.new.notas`: El arreglo notas está vacío.\n",
    "* `Alumno.nombre`: Nombre no está definido como método.\n",
    "* `Alumno.new.nombre`: No hay error. Quizás está definido como local."
   ]
  },
  {
   "cell_type": "markdown",
   "metadata": {},
   "source": [
    "## Estudiante Promedio\n",
    "\n",
    "> Agregar un método de instancia a __student__ para calcular el promedio de alumno."
   ]
  },
  {
   "cell_type": "code",
   "execution_count": 25,
   "metadata": {
    "collapsed": false
   },
   "outputs": [
    {
     "data": {
      "text/plain": [
       ":average"
      ]
     },
     "execution_count": 25,
     "metadata": {},
     "output_type": "execute_result"
    }
   ],
   "source": [
    "class Student\n",
    "  def initialize(grade1, grade2, grade3)\n",
    "    @grade1 = grade1\n",
    "    @grade2 = grade2\n",
    "    @grade3 = grade3\n",
    "  end\n",
    "  \n",
    "  def average\n",
    "    (@grade1 + @grade2 + @grade3) / 3.0\n",
    "  end\n",
    "end"
   ]
  },
  {
   "cell_type": "code",
   "execution_count": 26,
   "metadata": {
    "collapsed": false
   },
   "outputs": [
    {
     "data": {
      "text/plain": [
       "3.6666666666666665"
      ]
     },
     "execution_count": 26,
     "metadata": {},
     "output_type": "execute_result"
    }
   ],
   "source": [
    "Student.new(2, 3, 6).average"
   ]
  },
  {
   "cell_type": "code",
   "execution_count": 27,
   "metadata": {
    "collapsed": false
   },
   "outputs": [
    {
     "data": {
      "text/plain": [
       "5.0"
      ]
     },
     "execution_count": 27,
     "metadata": {},
     "output_type": "execute_result"
    }
   ],
   "source": [
    "Student.new(7, 3, 5).average"
   ]
  },
  {
   "cell_type": "markdown",
   "metadata": {},
   "source": [
    "## Creando una Baraja"
   ]
  },
  {
   "cell_type": "code",
   "execution_count": 33,
   "metadata": {
    "collapsed": false
   },
   "outputs": [
    {
     "data": {
      "text/plain": [
       "#<Carta:0x007f972a1a55b8 @num=8, @pinta=2>"
      ]
     },
     "execution_count": 33,
     "metadata": {},
     "output_type": "execute_result"
    }
   ],
   "source": [
    "class Carta\n",
    "  attr_reader :num, :pinta\n",
    "  def initialize(num, pinta)\n",
    "    @num = num\n",
    "    @pinta = pinta\n",
    "  end\n",
    "  \n",
    "  def to_s\n",
    "    \"#{@num}, #{@pinta}\"\n",
    "  end\n",
    "end\n",
    "\n",
    "\n",
    "c1 = Carta.new rand(1..13),rand(1..4)"
   ]
  },
  {
   "cell_type": "code",
   "execution_count": 34,
   "metadata": {
    "collapsed": false
   },
   "outputs": [
    {
     "name": "stdout",
     "output_type": "stream",
     "text": [
      "[#<Carta:0x007f972804b728 @num=10, @pinta=3>, #<Carta:0x007f972804b700 @num=9, @pinta=3>, #<Carta:0x007f972804b6d8 @num=9, @pinta=4>, #<Carta:0x007f972804b6b0 @num=2, @pinta=2>, #<Carta:0x007f972804b688 @num=12, @pinta=3>]"
     ]
    }
   ],
   "source": [
    "mano = []\n",
    "5.times do\n",
    "  mano << Carta.new(rand(1..13), rand(1..4))\n",
    "end\n",
    "\n",
    "print mano"
   ]
  },
  {
   "cell_type": "code",
   "execution_count": 5,
   "metadata": {
    "collapsed": false
   },
   "outputs": [
    {
     "data": {
      "text/plain": [
       "5"
      ]
     },
     "execution_count": 5,
     "metadata": {},
     "output_type": "execute_result"
    }
   ],
   "source": [
    "# ejercicio modificado \n",
    "\n",
    "class Carta\n",
    "  attr_reader :num, :pinta\n",
    "  def initialize(num, pinta)\n",
    "    @num = num\n",
    "    @pinta = pinta\n",
    "  end\n",
    "  \n",
    "  def to_s\n",
    "    \"#{@num}, #{@pinta}\"\n",
    "  end\n",
    "end\n",
    "\n",
    "pintas = [\"Corazón\", \"Trébol\", \"Pica\", \"Diamante\"]\n",
    "5.times do\n",
    "  mano << Carta.new(rand(1..13), pintas.sample)\n",
    "end\n"
   ]
  },
  {
   "cell_type": "code",
   "execution_count": 4,
   "metadata": {
    "collapsed": false
   },
   "outputs": [
    {
     "data": {
      "text/plain": [
       "\"Pica\""
      ]
     },
     "execution_count": 4,
     "metadata": {},
     "output_type": "execute_result"
    }
   ],
   "source": [
    "mano = [\"Corazón\", \"Trébol\", \"Pica\", \"Diamante\"]\n",
    "mano.sample"
   ]
  },
  {
   "cell_type": "code",
   "execution_count": null,
   "metadata": {
    "collapsed": true
   },
   "outputs": [],
   "source": []
  }
 ],
 "metadata": {
  "kernelspec": {
   "display_name": "Ruby 2.4.1",
   "language": "ruby",
   "name": "ruby"
  },
  "language_info": {
   "file_extension": ".rb",
   "mimetype": "application/x-ruby",
   "name": "ruby",
   "version": "2.4.1"
  }
 },
 "nbformat": 4,
 "nbformat_minor": 0
}
