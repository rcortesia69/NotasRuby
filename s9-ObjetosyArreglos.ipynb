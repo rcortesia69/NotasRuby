{
 "cells": [
  {
   "cell_type": "markdown",
   "metadata": {},
   "source": [
    "# Arreglo de productos\n",
    "\n",
    "> Crear la clase __Product__, donde cada _producto_ tiene asociado tres colores."
   ]
  },
  {
   "cell_type": "code",
   "execution_count": null,
   "metadata": {
    "collapsed": false
   },
   "outputs": [],
   "source": [
    "# producto.rb\n",
    "\n",
    "class Product\n",
    "  attr_reader :red\n",
    "  def initialize(name, blue, red, green)\n",
    "    @name = name\n",
    "    @blue = blue.to_i\n",
    "    @red = red.to_i\n",
    "    @green = green.to_i\n",
    "  end\n",
    "  \n",
    "  def stock_total\n",
    "    @blue + @green + @red\n",
    "  end\n",
    "end\n",
    "\n"
   ]
  },
  {
   "cell_type": "code",
   "execution_count": null,
   "metadata": {
    "collapsed": false
   },
   "outputs": [],
   "source": [
    "# Leer archivo y crear arreglo de productos\n",
    "\n",
    "products = []\n",
    "f = File.open(\"Producto.csv\", 'r')\n",
    "dat = f.readlines\n",
    "f.close\n",
    "\n",
    "\n",
    "dat.each do |line|\n",
    "  name, blue, red, green = line.split(', ')\n",
    "  products << Product.new(name, blue, red, green)\n",
    "end"
   ]
  },
  {
   "cell_type": "code",
   "execution_count": null,
   "metadata": {
    "collapsed": false
   },
   "outputs": [],
   "source": [
    "print products"
   ]
  },
  {
   "cell_type": "code",
   "execution_count": null,
   "metadata": {
    "collapsed": false
   },
   "outputs": [],
   "source": [
    "# Mostrar stock de productos rojos\n",
    "\n",
    "products.each do |prod|\n",
    "  puts prod.red\n",
    "end"
   ]
  },
  {
   "cell_type": "code",
   "execution_count": null,
   "metadata": {
    "collapsed": false
   },
   "outputs": [],
   "source": [
    "# Mostrar stock total de rojo\n",
    "\n",
    "products.inject(0) {|c, x| c + x.red}"
   ]
  },
  {
   "cell_type": "code",
   "execution_count": null,
   "metadata": {
    "collapsed": false
   },
   "outputs": [],
   "source": [
    "# mostrar stock total de un producto\n",
    "\n",
    "products.inject(0) {|c, x| c + x.stock_total}"
   ]
  },
  {
   "cell_type": "markdown",
   "metadata": {},
   "source": [
    "# Ejercicio Estudiantes\n",
    "\n",
    "> Crear la clase _Student_, donde cada alumno tiene un nombre y notas del 1 $\\rightarrow$ 10."
   ]
  },
  {
   "cell_type": "code",
   "execution_count": null,
   "metadata": {
    "collapsed": false
   },
   "outputs": [],
   "source": [
    "# students.rb\n",
    "\n",
    "class Student\n",
    "  def initialize(name, scores)\n",
    "    @name = name\n",
    "    @scores = scores.map(&:to_i)\n",
    "  end\n",
    "end"
   ]
  },
  {
   "cell_type": "code",
   "execution_count": null,
   "metadata": {
    "collapsed": false
   },
   "outputs": [],
   "source": [
    "# leer archivo\n",
    "\n",
    "students = []\n",
    "f = File.open(\"estudiantes.csv\", 'r')\n",
    "dat = f.readlines\n",
    "f.close\n",
    "\n",
    "dat.each do |l|\n",
    "  ls = l.split(', ')\n",
    "  name = ls[0]\n",
    "  scores = ls[1..ls.size]\n",
    "  students << Student.new(name,scores)\n",
    "end\n",
    "\n",
    "print students"
   ]
  },
  {
   "cell_type": "code",
   "execution_count": null,
   "metadata": {
    "collapsed": false
   },
   "outputs": [],
   "source": [
    "# redo con splat en initlialize y en el push\n",
    "\n",
    "class Student\n",
    "  def initialize(name, *scores)\n",
    "    @name = name\n",
    "    @scores = scores.map(&:to_i)\n",
    "  end\n",
    "end\n",
    "\n",
    "\n",
    "\n",
    "students = []\n",
    "dat.each do |l|\n",
    "  ls = l.split(', ')\n",
    "  students << Student.new(*ls)\n",
    "end\n",
    "\n",
    "print students"
   ]
  },
  {
   "cell_type": "code",
   "execution_count": null,
   "metadata": {
    "collapsed": false
   },
   "outputs": [],
   "source": [
    "# crear promedio\n",
    "# se agrega el método de instancia average.\n",
    "# se agrega attr_reader en class Student\n",
    "\n",
    "\n",
    "class Student\n",
    "  attr_reader :name\n",
    "  def initialize(name, *scores)\n",
    "    @name = name\n",
    "    @scores = scores.map(&:to_i)\n",
    "  end\n",
    "  \n",
    "  def average\n",
    "    @scores.inject(&:+) / @scores.size.to_f\n",
    "  end\n",
    "end\n",
    "\n",
    "students.each do |stu|\n",
    "  puts stu.name\n",
    "  puts stu.average\n",
    "end"
   ]
  },
  {
   "cell_type": "markdown",
   "metadata": {},
   "source": [
    "# Promedio de Promedios"
   ]
  },
  {
   "cell_type": "code",
   "execution_count": null,
   "metadata": {
    "collapsed": false
   },
   "outputs": [],
   "source": [
    "print (students.map(&:average).inject(&:+)) /3"
   ]
  },
  {
   "cell_type": "markdown",
   "metadata": {},
   "source": [
    "# Objeto Date"
   ]
  },
  {
   "cell_type": "code",
   "execution_count": null,
   "metadata": {
    "collapsed": false
   },
   "outputs": [],
   "source": [
    "require 'date'"
   ]
  },
  {
   "cell_type": "markdown",
   "metadata": {},
   "source": [
    "#### Fecha del dia"
   ]
  },
  {
   "cell_type": "code",
   "execution_count": null,
   "metadata": {
    "collapsed": false
   },
   "outputs": [],
   "source": [
    "a = Date.today"
   ]
  },
  {
   "cell_type": "code",
   "execution_count": null,
   "metadata": {
    "collapsed": false
   },
   "outputs": [],
   "source": [
    "Date.parse(\"2012-12-12\")"
   ]
  },
  {
   "cell_type": "code",
   "execution_count": null,
   "metadata": {
    "collapsed": false
   },
   "outputs": [],
   "source": [
    "Date.parse(\"2012-12-12\") > a"
   ]
  },
  {
   "cell_type": "markdown",
   "metadata": {},
   "source": [
    "# Objetos, archivos y fechas\n",
    "\n",
    "> Con el archivo empresas.csv."
   ]
  },
  {
   "cell_type": "code",
   "execution_count": null,
   "metadata": {
    "collapsed": false
   },
   "outputs": [],
   "source": [
    "# Crear objeto empresa\n",
    "\n",
    "f = File.open('empresas.csv', 'r')\n",
    "dat = f.readlines\n",
    "f.close\n",
    "\n",
    "dat = dat.map { |e| e.split(' ').map(&:chomp)}\n",
    "\n",
    "print dat"
   ]
  },
  {
   "cell_type": "code",
   "execution_count": null,
   "metadata": {
    "collapsed": false
   },
   "outputs": [],
   "source": [
    "class Empresa\n",
    "  def initialize(empresa, fecha)\n",
    "    @empresa = empresa\n",
    "    @fecha = fecha\n",
    "  \n",
    "end\n",
    "\n",
    "\n",
    "def past_payments(date)\n",
    "  "
   ]
  }
 ],
 "metadata": {
  "kernelspec": {
   "display_name": "Ruby 2.4.1",
   "language": "ruby",
   "name": "ruby"
  },
  "language_info": {
   "file_extension": ".rb",
   "mimetype": "application/x-ruby",
   "name": "ruby",
   "version": "2.4.1"
  }
 },
 "nbformat": 4,
 "nbformat_minor": 0
}
