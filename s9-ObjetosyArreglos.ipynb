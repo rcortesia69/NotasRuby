{
 "cells": [
  {
   "cell_type": "markdown",
   "metadata": {},
   "source": [
    "# Arreglo de productos\n",
    "\n",
    "> Crear la clase __Product__, donde cada _producto_ tiene asociado tres colores."
   ]
  },
  {
   "cell_type": "code",
   "execution_count": 1,
   "metadata": {
    "collapsed": false
   },
   "outputs": [
    {
     "data": {
      "text/plain": [
       ":stock_total"
      ]
     },
     "execution_count": 1,
     "metadata": {},
     "output_type": "execute_result"
    }
   ],
   "source": [
    "# producto.rb\n",
    "\n",
    "class Product\n",
    "  attr_reader :red\n",
    "  def initialize(name, blue, red, green)\n",
    "    @name = name\n",
    "    @blue = blue.to_i\n",
    "    @red = red.to_i\n",
    "    @green = green.to_i\n",
    "  end\n",
    "  \n",
    "  def stock_total\n",
    "    @blue + @green + @red\n",
    "  end\n",
    "end\n",
    "\n"
   ]
  },
  {
   "cell_type": "code",
   "execution_count": 2,
   "metadata": {
    "collapsed": false
   },
   "outputs": [
    {
     "data": {
      "text/plain": [
       "[\"Producto1, 10, 15, 21\\n\", \"Producto2, 20, 0, 3\\n\", \"Producto3, 4, 8, 0\\n\"]"
      ]
     },
     "execution_count": 2,
     "metadata": {},
     "output_type": "execute_result"
    }
   ],
   "source": [
    "# Leer archivo y crear arreglo de productos\n",
    "\n",
    "products = []\n",
    "f = File.open(\"Producto.csv\", 'r')\n",
    "dat = f.readlines\n",
    "f.close\n",
    "\n",
    "\n",
    "dat.each do |line|\n",
    "  name, blue, red, green = line.split(', ')\n",
    "  products << Product.new(name, blue, red, green)\n",
    "end"
   ]
  },
  {
   "cell_type": "code",
   "execution_count": 3,
   "metadata": {
    "collapsed": false
   },
   "outputs": [
    {
     "name": "stdout",
     "output_type": "stream",
     "text": [
      "[#<Product:0x007ff7479b6360 @name=\"Producto1\", @blue=10, @red=15, @green=21>, #<Product:0x007ff7479b60e0 @name=\"Producto2\", @blue=20, @red=0, @green=3>, #<Product:0x007ff7479b5e88 @name=\"Producto3\", @blue=4, @red=8, @green=0>]"
     ]
    }
   ],
   "source": [
    "print products"
   ]
  },
  {
   "cell_type": "code",
   "execution_count": 4,
   "metadata": {
    "collapsed": false
   },
   "outputs": [
    {
     "name": "stdout",
     "output_type": "stream",
     "text": [
      "15\n",
      "0\n",
      "8\n"
     ]
    },
    {
     "data": {
      "text/plain": [
       "[#<Product:0x007ff7479b6360 @name=\"Producto1\", @blue=10, @red=15, @green=21>, #<Product:0x007ff7479b60e0 @name=\"Producto2\", @blue=20, @red=0, @green=3>, #<Product:0x007ff7479b5e88 @name=\"Producto3\", @blue=4, @red=8, @green=0>]"
      ]
     },
     "execution_count": 4,
     "metadata": {},
     "output_type": "execute_result"
    }
   ],
   "source": [
    "# Mostrar stock de productos rojos\n",
    "\n",
    "products.each do |prod|\n",
    "  puts prod.red\n",
    "end"
   ]
  },
  {
   "cell_type": "code",
   "execution_count": 5,
   "metadata": {
    "collapsed": false
   },
   "outputs": [
    {
     "data": {
      "text/plain": [
       "23"
      ]
     },
     "execution_count": 5,
     "metadata": {},
     "output_type": "execute_result"
    }
   ],
   "source": [
    "# Mostrar stock total de rojo\n",
    "\n",
    "products.inject(0) {|c, x| c + x.red}"
   ]
  },
  {
   "cell_type": "code",
   "execution_count": 6,
   "metadata": {
    "collapsed": false
   },
   "outputs": [
    {
     "data": {
      "text/plain": [
       "81"
      ]
     },
     "execution_count": 6,
     "metadata": {},
     "output_type": "execute_result"
    }
   ],
   "source": [
    "# mostrar stock total de un producto\n",
    "\n",
    "products.inject(0) {|c, x| c + x.stock_total}"
   ]
  },
  {
   "cell_type": "markdown",
   "metadata": {},
   "source": [
    "# Ejercicio Estudiantes\n",
    "\n",
    "> Crear la clase _Student_, donde cada alumno tiene un nombre y notas del 1 $\\rightarrow$ 10."
   ]
  },
  {
   "cell_type": "code",
   "execution_count": 7,
   "metadata": {
    "collapsed": false
   },
   "outputs": [
    {
     "data": {
      "text/plain": [
       ":initialize"
      ]
     },
     "execution_count": 7,
     "metadata": {},
     "output_type": "execute_result"
    }
   ],
   "source": [
    "# students.rb\n",
    "\n",
    "class Student\n",
    "  def initialize(name, scores)\n",
    "    @name = name\n",
    "    @scores = scores.map(&:to_i)\n",
    "  end\n",
    "end"
   ]
  },
  {
   "cell_type": "code",
   "execution_count": 8,
   "metadata": {
    "collapsed": false
   },
   "outputs": [
    {
     "name": "stdout",
     "output_type": "stream",
     "text": [
      "[#<Student:0x007ff747a57760 @name=\" Juan Pablo\", @scores=[10, 7, 9]>, #<Student:0x007ff747a572b0 @name=\" Magdalena\", @scores=[9, 9, 9]>, #<Student:0x007ff747a56ec8 @name=\" Francisca\", @scores=[8, 6, 7]>]"
     ]
    }
   ],
   "source": [
    "# leer archivo\n",
    "\n",
    "students = []\n",
    "f = File.open(\"estudiantes.csv\", 'r')\n",
    "dat = f.readlines\n",
    "f.close\n",
    "\n",
    "dat.each do |l|\n",
    "  ls = l.split(', ')\n",
    "  name = ls[0]\n",
    "  scores = ls[1..ls.size]\n",
    "  students << Student.new(name,scores)\n",
    "end\n",
    "\n",
    "print students"
   ]
  },
  {
   "cell_type": "code",
   "execution_count": 9,
   "metadata": {
    "collapsed": false
   },
   "outputs": [
    {
     "name": "stdout",
     "output_type": "stream",
     "text": [
      "[#<Student:0x007ff7479cfb30 @name=\" Juan Pablo\", @scores=[10, 7, 9]>, #<Student:0x007ff7479cf900 @name=\" Magdalena\", @scores=[9, 9, 9]>, #<Student:0x007ff7479cf748 @name=\" Francisca\", @scores=[8, 6, 7]>]"
     ]
    }
   ],
   "source": [
    "# redo con splat en initlialize y en el push\n",
    "\n",
    "class Student\n",
    "  def initialize(name, *scores)\n",
    "    @name = name\n",
    "    @scores = scores.map(&:to_i)\n",
    "  end\n",
    "end\n",
    "\n",
    "\n",
    "\n",
    "students = []\n",
    "dat.each do |l|\n",
    "  ls = l.split(', ')\n",
    "  students << Student.new(*ls)\n",
    "end\n",
    "\n",
    "print students"
   ]
  },
  {
   "cell_type": "code",
   "execution_count": 10,
   "metadata": {
    "collapsed": false
   },
   "outputs": [
    {
     "name": "stdout",
     "output_type": "stream",
     "text": [
      " Juan Pablo\n",
      "8.666666666666666\n",
      " Magdalena\n",
      "9.0\n",
      " Francisca\n",
      "7.0\n"
     ]
    },
    {
     "data": {
      "text/plain": [
       "[#<Student:0x007ff7479cfb30 @name=\" Juan Pablo\", @scores=[10, 7, 9]>, #<Student:0x007ff7479cf900 @name=\" Magdalena\", @scores=[9, 9, 9]>, #<Student:0x007ff7479cf748 @name=\" Francisca\", @scores=[8, 6, 7]>]"
      ]
     },
     "execution_count": 10,
     "metadata": {},
     "output_type": "execute_result"
    }
   ],
   "source": [
    "# crear promedio\n",
    "# se agrega el método de instancia average.\n",
    "# se agrega attr_reader en class Student\n",
    "\n",
    "\n",
    "class Student\n",
    "  attr_reader :name\n",
    "  def initialize(name, *scores)\n",
    "    @name = name\n",
    "    @scores = scores.map(&:to_i)\n",
    "  end\n",
    "  \n",
    "  def average\n",
    "    @scores.inject(&:+) / @scores.size.to_f\n",
    "  end\n",
    "end\n",
    "\n",
    "students.each do |stu|\n",
    "  puts stu.name\n",
    "  puts stu.average\n",
    "end"
   ]
  },
  {
   "cell_type": "markdown",
   "metadata": {},
   "source": [
    "# Promedio de Promedios"
   ]
  },
  {
   "cell_type": "code",
   "execution_count": 11,
   "metadata": {
    "collapsed": false
   },
   "outputs": [
    {
     "name": "stdout",
     "output_type": "stream",
     "text": [
      "8.222222222222221"
     ]
    }
   ],
   "source": [
    "print (students.map(&:average).inject(&:+)) /3"
   ]
  },
  {
   "cell_type": "markdown",
   "metadata": {},
   "source": [
    "# Objeto Date"
   ]
  },
  {
   "cell_type": "code",
   "execution_count": 12,
   "metadata": {
    "collapsed": false
   },
   "outputs": [
    {
     "data": {
      "text/plain": [
       "true"
      ]
     },
     "execution_count": 12,
     "metadata": {},
     "output_type": "execute_result"
    }
   ],
   "source": [
    "require 'date'"
   ]
  },
  {
   "cell_type": "markdown",
   "metadata": {},
   "source": [
    "#### Fecha del dia"
   ]
  },
  {
   "cell_type": "code",
   "execution_count": 13,
   "metadata": {
    "collapsed": false
   },
   "outputs": [
    {
     "data": {
      "text/plain": [
       "#<Date: 2017-07-04 ((2457939j,0s,0n),+0s,2299161j)>"
      ]
     },
     "execution_count": 13,
     "metadata": {},
     "output_type": "execute_result"
    }
   ],
   "source": [
    "a = Date.today"
   ]
  },
  {
   "cell_type": "code",
   "execution_count": 14,
   "metadata": {
    "collapsed": false
   },
   "outputs": [
    {
     "data": {
      "text/plain": [
       "#<Date: 2012-12-12 ((2456274j,0s,0n),+0s,2299161j)>"
      ]
     },
     "execution_count": 14,
     "metadata": {},
     "output_type": "execute_result"
    }
   ],
   "source": [
    "Date.parse(\"2012-12-12\")"
   ]
  },
  {
   "cell_type": "code",
   "execution_count": 15,
   "metadata": {
    "collapsed": false
   },
   "outputs": [
    {
     "data": {
      "text/plain": [
       "false"
      ]
     },
     "execution_count": 15,
     "metadata": {},
     "output_type": "execute_result"
    }
   ],
   "source": [
    "Date.parse(\"2012-12-12\") > a"
   ]
  },
  {
   "cell_type": "markdown",
   "metadata": {},
   "source": [
    "# Objetos, archivos y fechas\n",
    "\n",
    "> Con el archivo empresas.csv."
   ]
  },
  {
   "cell_type": "code",
   "execution_count": 16,
   "metadata": {
    "collapsed": false
   },
   "outputs": [
    {
     "data": {
      "text/plain": [
       ":following_payments"
      ]
     },
     "execution_count": 16,
     "metadata": {},
     "output_type": "execute_result"
    }
   ],
   "source": [
    "require 'date'\n",
    "\n",
    "class Company\n",
    "  def initialize(name, *payments)\n",
    "    @name = name\n",
    "    @payments = payments.map { |e| Date.parse(e)}\n",
    "  end\n",
    "  \n",
    "  def previous_payments(cutpoint)\n",
    "    raise ArgumentError.new('cutpoint is not a valid date') if cutpoint.class != Date\n",
    "    @payments.select {|date| date < cutpoint}\n",
    "  end\n",
    "  \n",
    "  # tarea\n",
    "  \n",
    "  def following_payments(cutpoint)\n",
    "    raise ArgumentError.new('cutpoint is not a valid date') if cutpoint.class != Date\n",
    "    @payments.select { |date| date > cutpoint}\n",
    "  end\n",
    "end"
   ]
  },
  {
   "cell_type": "code",
   "execution_count": 17,
   "metadata": {
    "collapsed": false
   },
   "outputs": [
    {
     "name": "stdout",
     "output_type": "stream",
     "text": [
      "[\"Empresa1\", \"2016-05-21\", \"2017-08-10\", \"2017-08-31\", \"2017-09-18\", \"2017-09-28\"][\"Empresa2\", \"2017-06-16\", \"2017-07-05\", \"2017-07-20\", \"2017-12-04\", \"2017-12-19\"][\"Empresa3\", \"2017-05-12\", \"2017-05-30\", \"2017-06-29\", \"2017-09-27\", \"2017-10-19\"][\"Empresa4\", \"2017-07-06\", \"2017-10-10\", \"2017-12-07\", \"2017-12-15\", \"2017-12-29\"]"
     ]
    },
    {
     "data": {
      "text/plain": [
       "[\"Empresa1 2016-05-21 2017-08-10 2017-08-31 2017-09-18 2017-09-28\\n\", \"Empresa2 2017-06-16 2017-07-05 2017-07-20 2017-12-04 2017-12-19\\n\", \"Empresa3 2017-05-12 2017-05-30 2017-06-29 2017-09-27 2017-10-19\\n\", \"Empresa4 2017-07-06 2017-10-10 2017-12-07 2017-12-15 2017-12-29\\n\"]"
      ]
     },
     "execution_count": 17,
     "metadata": {},
     "output_type": "execute_result"
    }
   ],
   "source": [
    "# Crear objeto empresa\n",
    "\n",
    "f = File.open('empresas.csv', 'r')\n",
    "dat = f.readlines\n",
    "f.close\n",
    "\n",
    "companies = []\n",
    "dat.each do |l|\n",
    "  ls = l.split(' ')\n",
    "  companies << Company.new(*ls)\n",
    "  print ls\n",
    "end"
   ]
  },
  {
   "cell_type": "code",
   "execution_count": 18,
   "metadata": {
    "collapsed": false
   },
   "outputs": [
    {
     "data": {
      "text/plain": [
       "[#<Date: 2017-06-16 ((2457921j,0s,0n),+0s,2299161j)>]"
      ]
     },
     "execution_count": 18,
     "metadata": {},
     "output_type": "execute_result"
    }
   ],
   "source": [
    "companies[1].previous_payments(Date.today)"
   ]
  },
  {
   "cell_type": "code",
   "execution_count": 19,
   "metadata": {
    "collapsed": false
   },
   "outputs": [
    {
     "data": {
      "text/plain": [
       "[#<Date: 2016-05-21 ((2457530j,0s,0n),+0s,2299161j)>]"
      ]
     },
     "execution_count": 19,
     "metadata": {},
     "output_type": "execute_result"
    }
   ],
   "source": [
    "companies[0].previous_payments(Date.today)"
   ]
  },
  {
   "cell_type": "code",
   "execution_count": 20,
   "metadata": {
    "collapsed": false
   },
   "outputs": [
    {
     "data": {
      "text/plain": [
       "[#<Date: 2017-05-12 ((2457886j,0s,0n),+0s,2299161j)>, #<Date: 2017-05-30 ((2457904j,0s,0n),+0s,2299161j)>, #<Date: 2017-06-29 ((2457934j,0s,0n),+0s,2299161j)>]"
      ]
     },
     "execution_count": 20,
     "metadata": {},
     "output_type": "execute_result"
    }
   ],
   "source": [
    "companies[2].previous_payments(Date.today)"
   ]
  },
  {
   "cell_type": "code",
   "execution_count": 21,
   "metadata": {
    "collapsed": false
   },
   "outputs": [
    {
     "ename": "ArgumentError",
     "evalue": "cutpoint is not a valid date",
     "output_type": "error",
     "traceback": [
      "\u001b[31mArgumentError\u001b[0m: cutpoint is not a valid date",
      "\u001b[37m(pry):117:in `previous_payments'\u001b[0m",
      "\u001b[37m(pry):143:in `<main>'\u001b[0m",
      "\u001b[37m/Users/gncstzmr-wrkstt/.rvm/gems/ruby-2.4.1/gems/pry-0.10.4/lib/pry/pry_instance.rb:355:in `eval'\u001b[0m",
      "\u001b[37m/Users/gncstzmr-wrkstt/.rvm/gems/ruby-2.4.1/gems/pry-0.10.4/lib/pry/pry_instance.rb:355:in `evaluate_ruby'\u001b[0m",
      "\u001b[37m/Users/gncstzmr-wrkstt/.rvm/gems/ruby-2.4.1/gems/pry-0.10.4/lib/pry/pry_instance.rb:323:in `handle_line'\u001b[0m",
      "\u001b[37m/Users/gncstzmr-wrkstt/.rvm/gems/ruby-2.4.1/gems/pry-0.10.4/lib/pry/pry_instance.rb:243:in `block (2 levels) in eval'\u001b[0m",
      "\u001b[37m/Users/gncstzmr-wrkstt/.rvm/gems/ruby-2.4.1/gems/pry-0.10.4/lib/pry/pry_instance.rb:242:in `catch'\u001b[0m",
      "\u001b[37m/Users/gncstzmr-wrkstt/.rvm/gems/ruby-2.4.1/gems/pry-0.10.4/lib/pry/pry_instance.rb:242:in `block in eval'\u001b[0m",
      "\u001b[37m/Users/gncstzmr-wrkstt/.rvm/gems/ruby-2.4.1/gems/pry-0.10.4/lib/pry/pry_instance.rb:241:in `catch'\u001b[0m",
      "\u001b[37m/Users/gncstzmr-wrkstt/.rvm/gems/ruby-2.4.1/gems/pry-0.10.4/lib/pry/pry_instance.rb:241:in `eval'\u001b[0m",
      "\u001b[37m/Users/gncstzmr-wrkstt/.rvm/gems/ruby-2.4.1/gems/iruby-0.3/lib/iruby/backend.rb:66:in `eval'\u001b[0m",
      "\u001b[37m/Users/gncstzmr-wrkstt/.rvm/gems/ruby-2.4.1/gems/iruby-0.3/lib/iruby/backend.rb:12:in `eval'\u001b[0m",
      "\u001b[37m/Users/gncstzmr-wrkstt/.rvm/gems/ruby-2.4.1/gems/iruby-0.3/lib/iruby/kernel.rb:87:in `execute_request'\u001b[0m",
      "\u001b[37m/Users/gncstzmr-wrkstt/.rvm/gems/ruby-2.4.1/gems/iruby-0.3/lib/iruby/kernel.rb:47:in `dispatch'\u001b[0m",
      "\u001b[37m/Users/gncstzmr-wrkstt/.rvm/gems/ruby-2.4.1/gems/iruby-0.3/lib/iruby/kernel.rb:37:in `run'\u001b[0m",
      "\u001b[37m/Users/gncstzmr-wrkstt/.rvm/gems/ruby-2.4.1/gems/iruby-0.3/lib/iruby/command.rb:70:in `run_kernel'\u001b[0m",
      "\u001b[37m/Users/gncstzmr-wrkstt/.rvm/gems/ruby-2.4.1/gems/iruby-0.3/lib/iruby/command.rb:34:in `run'\u001b[0m",
      "\u001b[37m/Users/gncstzmr-wrkstt/.rvm/gems/ruby-2.4.1/gems/iruby-0.3/bin/iruby:5:in `<top (required)>'\u001b[0m",
      "\u001b[37m/Users/gncstzmr-wrkstt/.rvm/gems/ruby-2.4.1/bin/iruby:22:in `load'\u001b[0m",
      "\u001b[37m/Users/gncstzmr-wrkstt/.rvm/gems/ruby-2.4.1/bin/iruby:22:in `<main>'\u001b[0m",
      "\u001b[37m/Users/gncstzmr-wrkstt/.rvm/gems/ruby-2.4.1/bin/ruby_executable_hooks:15:in `eval'\u001b[0m",
      "\u001b[37m/Users/gncstzmr-wrkstt/.rvm/gems/ruby-2.4.1/bin/ruby_executable_hooks:15:in `<main>'\u001b[0m"
     ]
    }
   ],
   "source": [
    "companies[2].previous_payments(\"Gato\")\n",
    "\n",
    "# pucha :("
   ]
  },
  {
   "cell_type": "code",
   "execution_count": 22,
   "metadata": {
    "collapsed": false
   },
   "outputs": [
    {
     "name": "stdout",
     "output_type": "stream",
     "text": [
      "\n",
      "[#<Date: 2017-08-10 ((2457976j,0s,0n),+0s,2299161j)>, #<Date: 2017-08-31 ((2457997j,0s,0n),+0s,2299161j)>, #<Date: 2017-09-18 ((2458015j,0s,0n),+0s,2299161j)>, #<Date: 2017-09-28 ((2458025j,0s,0n),+0s,2299161j)>]\n",
      "\n",
      "[#<Date: 2017-07-05 ((2457940j,0s,0n),+0s,2299161j)>, #<Date: 2017-07-20 ((2457955j,0s,0n),+0s,2299161j)>, #<Date: 2017-12-04 ((2458092j,0s,0n),+0s,2299161j)>, #<Date: 2017-12-19 ((2458107j,0s,0n),+0s,2299161j)>]\n",
      "\n",
      "[#<Date: 2017-09-27 ((2458024j,0s,0n),+0s,2299161j)>, #<Date: 2017-10-19 ((2458046j,0s,0n),+0s,2299161j)>]\n",
      "\n",
      "[#<Date: 2017-07-06 ((2457941j,0s,0n),+0s,2299161j)>, #<Date: 2017-10-10 ((2458037j,0s,0n),+0s,2299161j)>, #<Date: 2017-12-07 ((2458095j,0s,0n),+0s,2299161j)>, #<Date: 2017-12-15 ((2458103j,0s,0n),+0s,2299161j)>, #<Date: 2017-12-29 ((2458117j,0s,0n),+0s,2299161j)>]\n"
     ]
    },
    {
     "data": {
      "text/plain": [
       "[#<Company:0x007ff74981c318 @name=\"Empresa1\", @payments=[#<Date: 2016-05-21 ((2457530j,0s,0n),+0s,2299161j)>, #<Date: 2017-08-10 ((2457976j,0s,0n),+0s,2299161j)>, #<Date: 2017-08-31 ((2457997j,0s,0n),+0s,2299161j)>, #<Date: 2017-09-18 ((2458015j,0s,0n),+0s,2299161j)>, #<Date: 2017-09-28 ((2458025j,0s,0n),+0s,2299161j)>]>, #<Company:0x007ff747955128 @name=\"Empresa2\", @payments=[#<Date: 2017-06-16 ((2457921j,0s,0n),+0s,2299161j)>, #<Date: 2017-07-05 ((2457940j,0s,0n),+0s,2299161j)>, #<Date: 2017-07-20 ((2457955j,0s,0n),+0s,2299161j)>, #<Date: 2017-12-04 ((2458092j,0s,0n),+0s,2299161j)>, #<Date: 2017-12-19 ((2458107j,0s,0n),+0s,2299161j)>]>, #<Company:0x007ff747945e30 @name=\"Empresa3\", @payments=[#<Date: 2017-05-12 ((2457886j,0s,0n),+0s,2299161j)>, #<Date: 2017-05-30 ((2457904j,0s,0n),+0s,2299161j)>, #<Date: 2017-06-29 ((2457934j,0s,0n),+0s,2299161j)>, #<Date: 2017-09-27 ((2458024j,0s,0n),+0s,2299161j)>, #<Date: 2017-10-19 ((2458046j,0s,0n),+0s,2299161j)>]>, #<Company:0x007ff74792ff90 @name=\"Empresa4\", @payments=[#<Date: 2017-07-06 ((2457941j,0s,0n),+0s,2299161j)>, #<Date: 2017-10-10 ((2458037j,0s,0n),+0s,2299161j)>, #<Date: 2017-12-07 ((2458095j,0s,0n),+0s,2299161j)>, #<Date: 2017-12-15 ((2458103j,0s,0n),+0s,2299161j)>, #<Date: 2017-12-29 ((2458117j,0s,0n),+0s,2299161j)>]>]"
      ]
     },
     "execution_count": 22,
     "metadata": {},
     "output_type": "execute_result"
    }
   ],
   "source": [
    "# tarea.\n",
    "\n",
    "companies.each do |i|\n",
    "  puts \"#{@name}\"\n",
    "  puts i.following_payments(Date.today)\n",
    "end\n"
   ]
  },
  {
   "cell_type": "code",
   "execution_count": 23,
   "metadata": {
    "collapsed": false
   },
   "outputs": [
    {
     "ename": "TypeError",
     "evalue": "String can't be coerced into Integer",
     "output_type": "error",
     "traceback": [
      "\u001b[31mTypeError\u001b[0m: String can't be coerced into Integer",
      "\u001b[37m(pry):171:in `+'\u001b[0m",
      "\u001b[37m(pry):171:in `block in <main>'\u001b[0m",
      "\u001b[37m(pry):171:in `each'\u001b[0m",
      "\u001b[37m(pry):171:in `inject'\u001b[0m",
      "\u001b[37m(pry):171:in `<main>'\u001b[0m",
      "\u001b[37m/Users/gncstzmr-wrkstt/.rvm/gems/ruby-2.4.1/gems/pry-0.10.4/lib/pry/pry_instance.rb:355:in `eval'\u001b[0m",
      "\u001b[37m/Users/gncstzmr-wrkstt/.rvm/gems/ruby-2.4.1/gems/pry-0.10.4/lib/pry/pry_instance.rb:355:in `evaluate_ruby'\u001b[0m",
      "\u001b[37m/Users/gncstzmr-wrkstt/.rvm/gems/ruby-2.4.1/gems/pry-0.10.4/lib/pry/pry_instance.rb:323:in `handle_line'\u001b[0m",
      "\u001b[37m/Users/gncstzmr-wrkstt/.rvm/gems/ruby-2.4.1/gems/pry-0.10.4/lib/pry/pry_instance.rb:243:in `block (2 levels) in eval'\u001b[0m",
      "\u001b[37m/Users/gncstzmr-wrkstt/.rvm/gems/ruby-2.4.1/gems/pry-0.10.4/lib/pry/pry_instance.rb:242:in `catch'\u001b[0m",
      "\u001b[37m/Users/gncstzmr-wrkstt/.rvm/gems/ruby-2.4.1/gems/pry-0.10.4/lib/pry/pry_instance.rb:242:in `block in eval'\u001b[0m",
      "\u001b[37m/Users/gncstzmr-wrkstt/.rvm/gems/ruby-2.4.1/gems/pry-0.10.4/lib/pry/pry_instance.rb:241:in `catch'\u001b[0m",
      "\u001b[37m/Users/gncstzmr-wrkstt/.rvm/gems/ruby-2.4.1/gems/pry-0.10.4/lib/pry/pry_instance.rb:241:in `eval'\u001b[0m",
      "\u001b[37m/Users/gncstzmr-wrkstt/.rvm/gems/ruby-2.4.1/gems/iruby-0.3/lib/iruby/backend.rb:66:in `eval'\u001b[0m",
      "\u001b[37m/Users/gncstzmr-wrkstt/.rvm/gems/ruby-2.4.1/gems/iruby-0.3/lib/iruby/backend.rb:12:in `eval'\u001b[0m",
      "\u001b[37m/Users/gncstzmr-wrkstt/.rvm/gems/ruby-2.4.1/gems/iruby-0.3/lib/iruby/kernel.rb:87:in `execute_request'\u001b[0m",
      "\u001b[37m/Users/gncstzmr-wrkstt/.rvm/gems/ruby-2.4.1/gems/iruby-0.3/lib/iruby/kernel.rb:47:in `dispatch'\u001b[0m",
      "\u001b[37m/Users/gncstzmr-wrkstt/.rvm/gems/ruby-2.4.1/gems/iruby-0.3/lib/iruby/kernel.rb:37:in `run'\u001b[0m",
      "\u001b[37m/Users/gncstzmr-wrkstt/.rvm/gems/ruby-2.4.1/gems/iruby-0.3/lib/iruby/command.rb:70:in `run_kernel'\u001b[0m",
      "\u001b[37m/Users/gncstzmr-wrkstt/.rvm/gems/ruby-2.4.1/gems/iruby-0.3/lib/iruby/command.rb:34:in `run'\u001b[0m",
      "\u001b[37m/Users/gncstzmr-wrkstt/.rvm/gems/ruby-2.4.1/gems/iruby-0.3/bin/iruby:5:in `<top (required)>'\u001b[0m",
      "\u001b[37m/Users/gncstzmr-wrkstt/.rvm/gems/ruby-2.4.1/bin/iruby:22:in `load'\u001b[0m",
      "\u001b[37m/Users/gncstzmr-wrkstt/.rvm/gems/ruby-2.4.1/bin/iruby:22:in `<main>'\u001b[0m",
      "\u001b[37m/Users/gncstzmr-wrkstt/.rvm/gems/ruby-2.4.1/bin/ruby_executable_hooks:15:in `eval'\u001b[0m",
      "\u001b[37m/Users/gncstzmr-wrkstt/.rvm/gems/ruby-2.4.1/bin/ruby_executable_hooks:15:in `<main>'\u001b[0m"
     ]
    }
   ],
   "source": [
    "class Product\n",
    "  attr_writer :green\n",
    "  def initialize(name, red, blue, green)\n",
    "    @name = name\n",
    "    @red = red\n",
    "    @blue = blue\n",
    "    @green = green\n",
    "  end\n",
    "  \n",
    "  def total\n",
    "    @red + @blue +@green\n",
    "  end\n",
    "end\n",
    "\n",
    "file = File.open('Producto.csv', 'r')\n",
    "data = file.readlines\n",
    "file.close\n",
    "\n",
    "productos = data.map { |row| Product.new(*row.split(\", \"))}\n",
    "puts productos.inject(0) { |c, x| c + x.total}"
   ]
  },
  {
   "cell_type": "code",
   "execution_count": null,
   "metadata": {
    "collapsed": true
   },
   "outputs": [],
   "source": []
  },
  {
   "cell_type": "code",
   "execution_count": null,
   "metadata": {
    "collapsed": true
   },
   "outputs": [],
   "source": []
  },
  {
   "cell_type": "code",
   "execution_count": null,
   "metadata": {
    "collapsed": true
   },
   "outputs": [],
   "source": []
  },
  {
   "cell_type": "code",
   "execution_count": null,
   "metadata": {
    "collapsed": true
   },
   "outputs": [],
   "source": []
  }
 ],
 "metadata": {
  "kernelspec": {
   "display_name": "Ruby 2.4.1",
   "language": "ruby",
   "name": "ruby"
  },
  "language_info": {
   "file_extension": ".rb",
   "mimetype": "application/x-ruby",
   "name": "ruby",
   "version": "2.4.1"
  }
 },
 "nbformat": 4,
 "nbformat_minor": 0
}
