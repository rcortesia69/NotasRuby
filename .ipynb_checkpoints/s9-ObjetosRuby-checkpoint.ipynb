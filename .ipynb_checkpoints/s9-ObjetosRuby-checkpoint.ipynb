{
 "cells": [
  {
   "cell_type": "markdown",
   "metadata": {},
   "source": [
    "—\n",
    "title: Objetos en ruby\n",
    "author: Ignacio Soto Zamorano\n",
    "abstract : Objetivos de la sesión: Manejar objetos en Ruby. Crear clases. Variables locales vs. Variables de instancia.\n",
    "date: \\today\n",
    "—"
   ]
  },
  {
   "cell_type": "markdown",
   "metadata": {},
   "source": [
    "# Conceptos claves\n",
    "\n",
    "__Para qué sirven los objetos?__: Siguiendo con el ejemplo de una clase anterior, tenemos el caso de `.include?`, que se concatenaba a un elemento como instancia de método. Pero hemos visto en clases anteriores que a través de los métodos declarados con `def`, difieren. Teniendo en mente a `.include?`, su análogo hardcoded es:"
   ]
  },
  {
   "cell_type": "code",
   "execution_count": 1,
   "metadata": {
    "collapsed": false
   },
   "outputs": [
    {
     "data": {
      "text/plain": [
       ":check_if_exists"
      ]
     },
     "execution_count": 1,
     "metadata": {},
     "output_type": "execute_result"
    }
   ],
   "source": [
    "def check_if_exists(array, object)\n",
    "  array.each do |e|\n",
    "    if e == object\n",
    "      return true\n",
    "    end\n",
    "  end\n",
    "  false\n",
    "end"
   ]
  },
  {
   "cell_type": "markdown",
   "metadata": {},
   "source": [
    "> \"Los objetos son geniales\" (Gonzalo 1:09. Video 2 \"Motivación y Conceptos Claves\" - Semana 9)\n",
    "\n",
    "Porque permiten:\n",
    "\n",
    "1. Reutilizar y compartir código de forma fácil y eficiente.\n",
    "2. Enfocarse en alto nivel, en detrimento de los datos.\n",
    "3. Es necesario saber manipular objetos para crear aplicaciones con `Rails`\n",
    "\n",
    "## Algunos conceptos nuevos (what you ought to know)\n",
    "\n",
    "* Clase\n",
    "* Objeto\n",
    "* Instancia\n",
    "* Atributo\n",
    "* Método de clase y de instancia\n",
    "* Variables locales, de clase y de instancia\n",
    "* Getters y Setters\n",
    "* Constructor\n",
    "* Self\n",
    "    \n",
    "## Definición básica de Objeto\n",
    "\n",
    "Básicamente __todo__, con algunas excepciones. La idea del objeto es _agrupar el código en torno a entidades_. Para definir las entidades, nos valemos de `clases`.\n",
    "\n",
    "Algunas excepciones de objetos son las palabras reservadas del Lenguaje como `if, else, def`, dado que no son modificables.\n",
    "\n",
    "## Tres conceptos importantes a recordar:\n",
    "\n",
    "1. __Clase:__ \"Un molde\" que nos permiten generar objetos con una serie determinada de atributos.\n",
    "2. __Instanciar:__ A través de este acto se pueden generar distintas instancias por medio de una clase.\n",
    "3. __Objeto (como instancia):__ Suelen referirse a cosas similares.\n",
    "\n",
    "La __clase__ es el _molde_, el __objeto__ es el _producto_, y una __instancia__ es un objeto _específico_ de esa clase."
   ]
  },
  {
   "cell_type": "markdown",
   "metadata": {},
   "source": [
    "## Nuestro Primer Objeto\n",
    "\n",
    "Se puede definir una clase por medio de `class #args end`. Para crear un objeto a partir de la clase, es necesario instanciarlo. Por lo general, se instancia con el método `.new`.\n",
    "\n",
    "__Manual de Carreño:__ Las clases se inician con una mayúscula para diferenciarlas de las variables"
   ]
  },
  {
   "cell_type": "code",
   "execution_count": 2,
   "metadata": {
    "collapsed": false
   },
   "outputs": [
    {
     "data": {
      "text/plain": [
       "#<Lego:0x007f93c70c8d18>"
      ]
     },
     "execution_count": 2,
     "metadata": {},
     "output_type": "execute_result"
    }
   ],
   "source": [
    "# Definiendo clase\n",
    "class Lego\n",
    "end\n",
    "\n",
    "# Instanciando\n",
    "lego1 = Lego.new\n",
    "# Llamando objeto instanciado\n",
    "lego1"
   ]
  },
  {
   "cell_type": "markdown",
   "metadata": {},
   "source": [
    "### Ejercicio: crear la clase Lego e instanciar 10 objetos legos en un array."
   ]
  },
  {
   "cell_type": "code",
   "execution_count": 3,
   "metadata": {
    "collapsed": false
   },
   "outputs": [
    {
     "name": "stdout",
     "output_type": "stream",
     "text": [
      "[#<Lego:0x007f93c6ac78b0>, #<Lego:0x007f93c6ac7888>, #<Lego:0x007f93c6ac7860>, #<Lego:0x007f93c6ac77e8>, #<Lego:0x007f93c6ac77c0>, #<Lego:0x007f93c6ac7798>, #<Lego:0x007f93c6ac7720>, #<Lego:0x007f93c6ac76f8>, #<Lego:0x007f93c6ac76d0>, #<Lego:0x007f93c6ac7658>]\n"
     ]
    }
   ],
   "source": [
    "# lego.rb\n",
    "\n",
    "class Lego\n",
    "end\n",
    "\n",
    "legos = []\n",
    "10.times do\n",
    "  legos << Lego.new\n",
    "end\n",
    "puts legos\n"
   ]
  },
  {
   "cell_type": "markdown",
   "metadata": {},
   "source": [
    "## Class\n",
    "\n",
    "> Casi todos los objetos se instancian con `.new`. Algunas excepciones son `Array` y `Hash`, que tienen otras formas de instanciarse.\n",
    "\n",
    "Para saber la clase de un objeto, podemos utilizar el método `.class`"
   ]
  },
  {
   "cell_type": "code",
   "execution_count": 9,
   "metadata": {
    "collapsed": false
   },
   "outputs": [
    {
     "data": {
      "text/plain": [
       "Array"
      ]
     },
     "execution_count": 9,
     "metadata": {},
     "output_type": "execute_result"
    }
   ],
   "source": [
    "a = []\n",
    "\n",
    "a.class"
   ]
  },
  {
   "cell_type": "code",
   "execution_count": 10,
   "metadata": {
    "collapsed": false
   },
   "outputs": [
    {
     "data": {
      "text/plain": [
       "[]"
      ]
     },
     "execution_count": 10,
     "metadata": {},
     "output_type": "execute_result"
    }
   ],
   "source": [
    "Array.new\n"
   ]
  },
  {
   "cell_type": "code",
   "execution_count": 11,
   "metadata": {
    "collapsed": false
   },
   "outputs": [
    {
     "data": {
      "text/plain": [
       "Array"
      ]
     },
     "execution_count": 11,
     "metadata": {},
     "output_type": "execute_result"
    }
   ],
   "source": [
    "Array.new.class\n"
   ]
  },
  {
   "cell_type": "code",
   "execution_count": 12,
   "metadata": {
    "collapsed": false
   },
   "outputs": [
    {
     "data": {
      "text/plain": [
       "{}"
      ]
     },
     "execution_count": 12,
     "metadata": {},
     "output_type": "execute_result"
    }
   ],
   "source": [
    "b = {}"
   ]
  },
  {
   "cell_type": "code",
   "execution_count": 13,
   "metadata": {
    "collapsed": false
   },
   "outputs": [
    {
     "data": {
      "text/plain": [
       "Hash"
      ]
     },
     "execution_count": 13,
     "metadata": {},
     "output_type": "execute_result"
    }
   ],
   "source": [
    "b.class"
   ]
  },
  {
   "cell_type": "code",
   "execution_count": 14,
   "metadata": {
    "collapsed": false
   },
   "outputs": [
    {
     "data": {
      "text/plain": [
       "Hash"
      ]
     },
     "execution_count": 14,
     "metadata": {},
     "output_type": "execute_result"
    }
   ],
   "source": [
    "Hash.new.class"
   ]
  },
  {
   "cell_type": "code",
   "execution_count": 15,
   "metadata": {
    "collapsed": false
   },
   "outputs": [
    {
     "data": {
      "text/plain": [
       "Lego"
      ]
     },
     "execution_count": 15,
     "metadata": {},
     "output_type": "execute_result"
    }
   ],
   "source": [
    "lego1.class"
   ]
  },
  {
   "cell_type": "markdown",
   "metadata": {},
   "source": [
    "## Método de instancia\n",
    "\n",
    "Los objetos poseen __identidad, comportamiento y atributos__.\n",
    "\n",
    "## Identidad\n",
    "\n",
    "En ruby, todos los objetos tienen un identificador, el cual nos permite ver si la instancia creada es nueva o se sobrescribe. Ejemplo de una identidad:"
   ]
  },
  {
   "cell_type": "code",
   "execution_count": 16,
   "metadata": {
    "collapsed": false
   },
   "outputs": [
    {
     "data": {
      "text/plain": [
       "70222841503640"
      ]
     },
     "execution_count": 16,
     "metadata": {},
     "output_type": "execute_result"
    }
   ],
   "source": [
    "lego1.object_id"
   ]
  },
  {
   "cell_type": "markdown",
   "metadata": {},
   "source": [
    "## Comportamiento\n",
    "\n",
    "Define qué puede hacer un objeto. Tomemos el siguiente ejemplo, que arroja un error dado que son dos tipos de objeto distintos:"
   ]
  },
  {
   "cell_type": "code",
   "execution_count": 18,
   "metadata": {
    "collapsed": false
   },
   "outputs": [
    {
     "ename": "TypeError",
     "evalue": "String can't be coerced into Integer",
     "output_type": "error",
     "traceback": [
      "\u001b[31mTypeError\u001b[0m: String can't be coerced into Integer",
      "\u001b[37m<main>:in `+'\u001b[0m",
      "\u001b[37m<main>:in `<main>'\u001b[0m",
      "\u001b[37m/Users/gncstzmr-wrkstt/.rvm/gems/ruby-2.4.1/gems/iruby-0.3/lib/iruby/backend.rb:44:in `eval'\u001b[0m",
      "\u001b[37m/Users/gncstzmr-wrkstt/.rvm/gems/ruby-2.4.1/gems/iruby-0.3/lib/iruby/backend.rb:44:in `eval'\u001b[0m",
      "\u001b[37m/Users/gncstzmr-wrkstt/.rvm/gems/ruby-2.4.1/gems/iruby-0.3/lib/iruby/backend.rb:12:in `eval'\u001b[0m",
      "\u001b[37m/Users/gncstzmr-wrkstt/.rvm/gems/ruby-2.4.1/gems/iruby-0.3/lib/iruby/kernel.rb:87:in `execute_request'\u001b[0m",
      "\u001b[37m/Users/gncstzmr-wrkstt/.rvm/gems/ruby-2.4.1/gems/iruby-0.3/lib/iruby/kernel.rb:47:in `dispatch'\u001b[0m",
      "\u001b[37m/Users/gncstzmr-wrkstt/.rvm/gems/ruby-2.4.1/gems/iruby-0.3/lib/iruby/kernel.rb:37:in `run'\u001b[0m",
      "\u001b[37m/Users/gncstzmr-wrkstt/.rvm/gems/ruby-2.4.1/gems/iruby-0.3/lib/iruby/command.rb:70:in `run_kernel'\u001b[0m",
      "\u001b[37m/Users/gncstzmr-wrkstt/.rvm/gems/ruby-2.4.1/gems/iruby-0.3/lib/iruby/command.rb:34:in `run'\u001b[0m",
      "\u001b[37m/Users/gncstzmr-wrkstt/.rvm/gems/ruby-2.4.1/gems/iruby-0.3/bin/iruby:5:in `<top (required)>'\u001b[0m",
      "\u001b[37m/Users/gncstzmr-wrkstt/.rvm/gems/ruby-2.4.1/bin/iruby:22:in `load'\u001b[0m",
      "\u001b[37m/Users/gncstzmr-wrkstt/.rvm/gems/ruby-2.4.1/bin/iruby:22:in `<main>'\u001b[0m",
      "\u001b[37m/Users/gncstzmr-wrkstt/.rvm/gems/ruby-2.4.1/bin/ruby_executable_hooks:15:in `eval'\u001b[0m",
      "\u001b[37m/Users/gncstzmr-wrkstt/.rvm/gems/ruby-2.4.1/bin/ruby_executable_hooks:15:in `<main>'\u001b[0m"
     ]
    }
   ],
   "source": [
    "2 + \"hola\""
   ]
  },
  {
   "cell_type": "markdown",
   "metadata": {},
   "source": [
    "Si deseamos crear un comportamiento específico a una clase, lo podemos declarar mediante una clase. Esto se conoce como __métodos de instancia__. \n",
    "\n",
    "Ejemplo:"
   ]
  },
  {
   "cell_type": "code",
   "execution_count": 20,
   "metadata": {
    "collapsed": false
   },
   "outputs": [
    {
     "name": "stdout",
     "output_type": "stream",
     "text": [
      "braaaains\n"
     ]
    }
   ],
   "source": [
    "class Zombie\n",
    "  def saludar\n",
    "    puts \"braaaains\"\n",
    "  end\n",
    "end\n",
    "\n",
    "z = Zombie.new\n",
    "\n",
    "z.saludar"
   ]
  },
  {
   "cell_type": "markdown",
   "metadata": {},
   "source": [
    "## Variables de Instancia\n",
    "\n",
    "Así como podemos agregar comportamientos mediante los métodos de instancia, podemos agregar estados mediante las __variables de instancia__. Se identifican porque preceden de un `@`. \n",
    "\n",
    "Las variables de instancia permiten guardar estados de los objetos.\n",
    "\n",
    "> Las variables de instancia dependen de la instancia.\n",
    "\n"
   ]
  },
  {
   "cell_type": "code",
   "execution_count": 2,
   "metadata": {
    "collapsed": false
   },
   "outputs": [
    {
     "name": "stdout",
     "output_type": "stream",
     "text": [
      "Francisca dice hola\n"
     ]
    }
   ],
   "source": [
    "class Persona\n",
    "  def bautizar(nuevo_nombre)\n",
    "    @nombre = nuevo_nombre\n",
    "  end\n",
    "  \n",
    "  def saludar()\n",
    "    puts \"#{@nombre} dice hola\"\n",
    "  end\n",
    "end\n",
    "\n",
    "p1 = Persona.new\n",
    "p1.bautizar(\"Jaime\")\n",
    "p2 = Persona.new\n",
    "p2.bautizar(\"Francisca\")\n",
    "p2.saludar()"
   ]
  },
  {
   "cell_type": "code",
   "execution_count": 3,
   "metadata": {
    "collapsed": false
   },
   "outputs": [
    {
     "name": "stdout",
     "output_type": "stream",
     "text": [
      "Jaime dice hola\n"
     ]
    }
   ],
   "source": [
    "p1.saludar()"
   ]
  },
  {
   "cell_type": "markdown",
   "metadata": {},
   "source": [
    "## Scope de variables de instancia\n",
    "\n",
    "Las variables de instancia son _distintas_ a las variables locales. Esto dado que responden a un scope (_ámbito_) distinto dentro del programa. Éste es el que determina en qué partes del programa se utiliza determinada entidad.\n",
    "\n",
    "> El ámbito de las variables locales siempre es uno de los siguientes:\n",
    "> * `proc { ... }`\n",
    "> * `loop { ... }`\n",
    "> * `def ... end`\n",
    "> * `class ... end`\n",
    "> * `module ... end`\n",
    "\n",
    "Tenemos el siguiente código que asigna una variable local definida en otro método. Esto causará problemas porque la variable __yo_soy_una_var_local__ está definida en otro método, no en `mostrar_valores`"
   ]
  },
  {
   "cell_type": "code",
   "execution_count": 4,
   "metadata": {
    "collapsed": false
   },
   "outputs": [
    {
     "name": "stdout",
     "output_type": "stream",
     "text": [
      "5\n"
     ]
    },
    {
     "ename": "NameError",
     "evalue": "undefined local variable or method `yo_soy_una_var_local' for #<Ejemplo:0x007f8af7abfbd8 @yo_soy_una_var_de_instancia=5>\nDid you mean?  @yo_soy_una_var_de_instancia",
     "output_type": "error",
     "traceback": [
      "\u001b[31mNameError\u001b[0m: undefined local variable or method `yo_soy_una_var_local' for #<Ejemplo:0x007f8af7abfbd8 @yo_soy_una_var_de_instancia=5>\nDid you mean?  @yo_soy_una_var_de_instancia",
      "\u001b[37m<main>:7:in `mostrar_valores'\u001b[0m",
      "\u001b[37m<main>:13:in `<main>'\u001b[0m",
      "\u001b[37m/Users/gncstzmr-wrkstt/.rvm/gems/ruby-2.4.1/gems/iruby-0.3/lib/iruby/backend.rb:44:in `eval'\u001b[0m",
      "\u001b[37m/Users/gncstzmr-wrkstt/.rvm/gems/ruby-2.4.1/gems/iruby-0.3/lib/iruby/backend.rb:44:in `eval'\u001b[0m",
      "\u001b[37m/Users/gncstzmr-wrkstt/.rvm/gems/ruby-2.4.1/gems/iruby-0.3/lib/iruby/backend.rb:12:in `eval'\u001b[0m",
      "\u001b[37m/Users/gncstzmr-wrkstt/.rvm/gems/ruby-2.4.1/gems/iruby-0.3/lib/iruby/kernel.rb:87:in `execute_request'\u001b[0m",
      "\u001b[37m/Users/gncstzmr-wrkstt/.rvm/gems/ruby-2.4.1/gems/iruby-0.3/lib/iruby/kernel.rb:47:in `dispatch'\u001b[0m",
      "\u001b[37m/Users/gncstzmr-wrkstt/.rvm/gems/ruby-2.4.1/gems/iruby-0.3/lib/iruby/kernel.rb:37:in `run'\u001b[0m",
      "\u001b[37m/Users/gncstzmr-wrkstt/.rvm/gems/ruby-2.4.1/gems/iruby-0.3/lib/iruby/command.rb:70:in `run_kernel'\u001b[0m",
      "\u001b[37m/Users/gncstzmr-wrkstt/.rvm/gems/ruby-2.4.1/gems/iruby-0.3/lib/iruby/command.rb:34:in `run'\u001b[0m",
      "\u001b[37m/Users/gncstzmr-wrkstt/.rvm/gems/ruby-2.4.1/gems/iruby-0.3/bin/iruby:5:in `<top (required)>'\u001b[0m",
      "\u001b[37m/Users/gncstzmr-wrkstt/.rvm/gems/ruby-2.4.1/bin/iruby:22:in `load'\u001b[0m",
      "\u001b[37m/Users/gncstzmr-wrkstt/.rvm/gems/ruby-2.4.1/bin/iruby:22:in `<main>'\u001b[0m",
      "\u001b[37m/Users/gncstzmr-wrkstt/.rvm/gems/ruby-2.4.1/bin/ruby_executable_hooks:15:in `eval'\u001b[0m",
      "\u001b[37m/Users/gncstzmr-wrkstt/.rvm/gems/ruby-2.4.1/bin/ruby_executable_hooks:15:in `<main>'\u001b[0m"
     ]
    }
   ],
   "source": [
    "class Ejemplo\n",
    "  def valores_iniciales()\n",
    "    @yo_soy_una_var_de_instancia = 5\n",
    "    yo_soy_una_var_local = 5\n",
    "  end\n",
    "  def mostrar_valores()\n",
    "    puts @yo_soy_una_var_de_instancia\n",
    "    puts yo_soy_una_var_local\n",
    "  end\n",
    "end\n",
    "\n",
    "ejemplo = Ejemplo.new()\n",
    "ejemplo.valores_iniciales\n",
    "ejemplo.mostrar_valores"
   ]
  },
  {
   "cell_type": "markdown",
   "metadata": {},
   "source": [
    "## Ejemplo con métodos y atributos"
   ]
  },
  {
   "cell_type": "code",
   "execution_count": 33,
   "metadata": {
    "collapsed": false
   },
   "outputs": [
    {
     "data": {
      "text/plain": [
       "0"
      ]
     },
     "execution_count": 33,
     "metadata": {},
     "output_type": "execute_result"
    }
   ],
   "source": [
    "# persona_tipo2.rb\n",
    "\n",
    "class PersonaTipo2\n",
    "  def nacer\n",
    "    @edad = 0\n",
    "  end\n",
    "  \n",
    "  def envejecer\n",
    "    @edad += 1\n",
    "  end\n",
    "  \n",
    "  def mostrar_edad\n",
    "    puts @edad\n",
    "  end\n",
    "end\n",
    "\n",
    "p1 = PersonaTipo2.new\n",
    "p1.nacer"
   ]
  },
  {
   "cell_type": "code",
   "execution_count": 34,
   "metadata": {
    "collapsed": false
   },
   "outputs": [
    {
     "data": {
      "text/plain": [
       "1"
      ]
     },
     "execution_count": 34,
     "metadata": {},
     "output_type": "execute_result"
    }
   ],
   "source": [
    "p1.envejecer"
   ]
  },
  {
   "cell_type": "code",
   "execution_count": 35,
   "metadata": {
    "collapsed": false
   },
   "outputs": [
    {
     "name": "stdout",
     "output_type": "stream",
     "text": [
      "1\n"
     ]
    }
   ],
   "source": [
    "p1.mostrar_edad"
   ]
  },
  {
   "cell_type": "code",
   "execution_count": 36,
   "metadata": {
    "collapsed": false
   },
   "outputs": [
    {
     "name": "stdout",
     "output_type": "stream",
     "text": [
      "11\n"
     ]
    }
   ],
   "source": [
    "# si queremos envejecer en 10 años:\n",
    "\n",
    "10.times do\n",
    "  p1.envejecer\n",
    "end\n",
    "\n",
    "p1.mostrar_edad"
   ]
  },
  {
   "cell_type": "code",
   "execution_count": null,
   "metadata": {
    "collapsed": true
   },
   "outputs": [],
   "source": []
  },
  {
   "cell_type": "code",
   "execution_count": null,
   "metadata": {
    "collapsed": true
   },
   "outputs": [],
   "source": []
  }
 ],
 "metadata": {
  "kernelspec": {
   "display_name": "Ruby 2.4.1",
   "language": "ruby",
   "name": "ruby"
  },
  "language_info": {
   "file_extension": ".rb",
   "mimetype": "application/x-ruby",
   "name": "ruby",
   "version": "2.4.1"
  }
 },
 "nbformat": 4,
 "nbformat_minor": 0
}
