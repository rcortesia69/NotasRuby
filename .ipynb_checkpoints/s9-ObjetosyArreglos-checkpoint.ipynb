{
 "cells": [
  {
   "cell_type": "markdown",
   "metadata": {},
   "source": [
    "# Arreglo de productos\n",
    "\n",
    "> Crear la clase __Product__, donde cada _producto_ tiene asociado tres colores."
   ]
  },
  {
   "cell_type": "code",
   "execution_count": 25,
   "metadata": {
    "collapsed": false
   },
   "outputs": [
    {
     "data": {
      "text/plain": [
       ":stock_total"
      ]
     },
     "execution_count": 25,
     "metadata": {},
     "output_type": "execute_result"
    }
   ],
   "source": [
    "# producto.rb\n",
    "\n",
    "class Product\n",
    "  attr_reader :red\n",
    "  def initialize(name, blue, red, green)\n",
    "    @name = name\n",
    "    @blue = blue.to_i\n",
    "    @red = red.to_i\n",
    "    @green = green.to_i\n",
    "  end\n",
    "  \n",
    "  def stock_total\n",
    "    @blue + @green + @red\n",
    "  end\n",
    "end\n",
    "\n"
   ]
  },
  {
   "cell_type": "code",
   "execution_count": 26,
   "metadata": {
    "collapsed": false
   },
   "outputs": [
    {
     "data": {
      "text/plain": [
       "[\"Producto1, 10, 15, 21\\n\", \"Producto2, 20, 0, 3\\n\", \"Producto3, 4, 8, 0\\n\"]"
      ]
     },
     "execution_count": 26,
     "metadata": {},
     "output_type": "execute_result"
    }
   ],
   "source": [
    "# Leer archivo y crear arreglo de productos\n",
    "\n",
    "products = []\n",
    "f = File.open(\"Producto.csv\", 'r')\n",
    "dat = f.readlines\n",
    "f.close\n",
    "\n",
    "\n",
    "dat.each do |line|\n",
    "  name, blue, red, green = line.split(', ')\n",
    "  products << Product.new(name, blue, red, green)\n",
    "end"
   ]
  },
  {
   "cell_type": "code",
   "execution_count": 36,
   "metadata": {
    "collapsed": false
   },
   "outputs": [
    {
     "name": "stdout",
     "output_type": "stream",
     "text": [
      "[#<Product:0x007f9b83006380 @name=\"Producto1\", @blue=10, @red=15, @green=21>, #<Product:0x007f9b83006100 @name=\"Producto2\", @blue=20, @red=0, @green=3>, #<Product:0x007f9b83005e08 @name=\"Producto3\", @blue=4, @red=8, @green=0>]"
     ]
    }
   ],
   "source": [
    "print products"
   ]
  },
  {
   "cell_type": "code",
   "execution_count": 35,
   "metadata": {
    "collapsed": false
   },
   "outputs": [
    {
     "name": "stdout",
     "output_type": "stream",
     "text": [
      "15\n",
      "0\n",
      "8\n"
     ]
    },
    {
     "data": {
      "text/plain": [
       "[#<Product:0x007f9b83006380 @name=\"Producto1\", @blue=10, @red=15, @green=21>, #<Product:0x007f9b83006100 @name=\"Producto2\", @blue=20, @red=0, @green=3>, #<Product:0x007f9b83005e08 @name=\"Producto3\", @blue=4, @red=8, @green=0>]"
      ]
     },
     "execution_count": 35,
     "metadata": {},
     "output_type": "execute_result"
    }
   ],
   "source": [
    "# Mostrar stock de productos rojos\n",
    "\n",
    "products.each do |prod|\n",
    "  puts prod.red\n",
    "end"
   ]
  },
  {
   "cell_type": "code",
   "execution_count": 29,
   "metadata": {
    "collapsed": false
   },
   "outputs": [
    {
     "data": {
      "text/plain": [
       "23"
      ]
     },
     "execution_count": 29,
     "metadata": {},
     "output_type": "execute_result"
    }
   ],
   "source": [
    "# Mostrar stock total de rojo\n",
    "\n",
    "products.inject(0) {|c, x| c + x.red}"
   ]
  },
  {
   "cell_type": "code",
   "execution_count": null,
   "metadata": {
    "collapsed": true
   },
   "outputs": [],
   "source": [
    "# mostrar stock total de un producto\n",
    "\n",
    "products.inject(0) {|c, x| c + x.stock_total}"
   ]
  },
  {
   "cell_type": "markdown",
   "metadata": {},
   "source": [
    "# Ejercicio Estudiantes\n",
    "\n",
    "> Crear la clase _Student_, donde cada alumno tiene un nombre y notas del 1 $\\rightarrow$ 10."
   ]
  },
  {
   "cell_type": "code",
   "execution_count": 4,
   "metadata": {
    "collapsed": false
   },
   "outputs": [
    {
     "data": {
      "text/plain": [
       ":initialize"
      ]
     },
     "execution_count": 4,
     "metadata": {},
     "output_type": "execute_result"
    }
   ],
   "source": [
    "# students.rb\n",
    "\n",
    "class Student\n",
    "  def initialize(name, scores)\n",
    "    @name = name\n",
    "    @scores = scores.map(&:to_i)\n",
    "  end\n",
    "end"
   ]
  },
  {
   "cell_type": "code",
   "execution_count": 8,
   "metadata": {
    "collapsed": false
   },
   "outputs": [
    {
     "name": "stdout",
     "output_type": "stream",
     "text": [
      "[#<Student:0x007fc9710b6598 @name=\" Juan Pablo\", @scores=[10, 7, 9]>, #<Student:0x007fc9710b4db0 @name=\" Magdalena\", @scores=[9, 9, 9]>, #<Student:0x007fc9710aeca8 @name=\" Francisca\", @scores=[8, 6, 7]>]"
     ]
    }
   ],
   "source": [
    "# leer archivo\n",
    "\n",
    "students = []\n",
    "f = File.open(\"estudiantes.csv\", 'r')\n",
    "dat = f.readlines\n",
    "f.close\n",
    "\n",
    "dat.each do |l|\n",
    "  ls = l.split(', ')\n",
    "  name = ls[0]\n",
    "  scores = ls[1..ls.size]\n",
    "  students << Student.new(name,scores)\n",
    "end\n",
    "\n",
    "print students"
   ]
  },
  {
   "cell_type": "code",
   "execution_count": 16,
   "metadata": {
    "collapsed": false
   },
   "outputs": [
    {
     "name": "stdout",
     "output_type": "stream",
     "text": [
      "[#<Student:0x007fc96e887e28 @name=\" Juan Pablo\", @scores=[10, 7, 9]>, #<Student:0x007fc96e887c48 @name=\" Magdalena\", @scores=[9, 9, 9]>, #<Student:0x007fc96e887a18 @name=\" Francisca\", @scores=[8, 6, 7]>]"
     ]
    }
   ],
   "source": [
    "# redo con splat en initlialize y en el push\n",
    "\n",
    "class Student\n",
    "  def initialize(name, *scores)\n",
    "    @name = name\n",
    "    @scores = scores.map(&:to_i)\n",
    "  end\n",
    "end\n",
    "\n",
    "\n",
    "\n",
    "students = []\n",
    "dat.each do |l|\n",
    "  ls = l.split(', ')\n",
    "  students << Student.new(*ls)\n",
    "end\n",
    "\n",
    "print students"
   ]
  },
  {
   "cell_type": "code",
   "execution_count": 19,
   "metadata": {
    "collapsed": false
   },
   "outputs": [
    {
     "name": "stdout",
     "output_type": "stream",
     "text": [
      " Juan Pablo\n",
      "8.666666666666666\n",
      " Magdalena\n",
      "9.0\n",
      " Francisca\n",
      "7.0\n"
     ]
    },
    {
     "data": {
      "text/plain": [
       "[#<Student:0x007fc96e887e28 @name=\" Juan Pablo\", @scores=[10, 7, 9]>, #<Student:0x007fc96e887c48 @name=\" Magdalena\", @scores=[9, 9, 9]>, #<Student:0x007fc96e887a18 @name=\" Francisca\", @scores=[8, 6, 7]>]"
      ]
     },
     "execution_count": 19,
     "metadata": {},
     "output_type": "execute_result"
    }
   ],
   "source": [
    "# crear promedio\n",
    "# se agrega el método de instancia average.\n",
    "# se agrega attr_reader en class Student\n",
    "\n",
    "\n",
    "class Student\n",
    "  attr_reader :name\n",
    "  def initialize(name, *scores)\n",
    "    @name = name\n",
    "    @scores = scores.map(&:to_i)\n",
    "  end\n",
    "  \n",
    "  def average\n",
    "    @scores.inject(&:+) / @scores.size.to_f\n",
    "  end\n",
    "end\n",
    "\n",
    "students.each do |stu|\n",
    "  puts stu.name\n",
    "  puts stu.average\n",
    "end"
   ]
  },
  {
   "cell_type": "markdown",
   "metadata": {},
   "source": [
    "# Promedio de Promedios"
   ]
  },
  {
   "cell_type": "code",
   "execution_count": 23,
   "metadata": {
    "collapsed": false
   },
   "outputs": [
    {
     "name": "stdout",
     "output_type": "stream",
     "text": [
      "8.222222222222221"
     ]
    }
   ],
   "source": [
    "print (students.map(&:average).inject(&:+)) /3"
   ]
  },
  {
   "cell_type": "markdown",
   "metadata": {},
   "source": [
    "# Objeto Date"
   ]
  },
  {
   "cell_type": "code",
   "execution_count": 24,
   "metadata": {
    "collapsed": false
   },
   "outputs": [
    {
     "data": {
      "text/plain": [
       "true"
      ]
     },
     "execution_count": 24,
     "metadata": {},
     "output_type": "execute_result"
    }
   ],
   "source": [
    "require 'date'"
   ]
  },
  {
   "cell_type": "markdown",
   "metadata": {},
   "source": [
    "#### Fecha del dia"
   ]
  },
  {
   "cell_type": "code",
   "execution_count": 31,
   "metadata": {
    "collapsed": false
   },
   "outputs": [
    {
     "data": {
      "text/plain": [
       "#<Date: 2017-07-04 ((2457939j,0s,0n),+0s,2299161j)>"
      ]
     },
     "execution_count": 31,
     "metadata": {},
     "output_type": "execute_result"
    }
   ],
   "source": [
    "a = Date.today"
   ]
  },
  {
   "cell_type": "code",
   "execution_count": 33,
   "metadata": {
    "collapsed": false
   },
   "outputs": [
    {
     "data": {
      "text/plain": [
       "#<Date: 2012-12-12 ((2456274j,0s,0n),+0s,2299161j)>"
      ]
     },
     "execution_count": 33,
     "metadata": {},
     "output_type": "execute_result"
    }
   ],
   "source": [
    "Date.parse(\"2012-12-12\")"
   ]
  },
  {
   "cell_type": "code",
   "execution_count": 34,
   "metadata": {
    "collapsed": false
   },
   "outputs": [
    {
     "data": {
      "text/plain": [
       "false"
      ]
     },
     "execution_count": 34,
     "metadata": {},
     "output_type": "execute_result"
    }
   ],
   "source": [
    "Date.parse(\"2012-12-12\") > a"
   ]
  },
  {
   "cell_type": "markdown",
   "metadata": {},
   "source": [
    "# Objetos, archivos y fechas\n",
    "\n",
    "> Con el archivo empresas.csv."
   ]
  },
  {
   "cell_type": "code",
   "execution_count": 38,
   "metadata": {
    "collapsed": false
   },
   "outputs": [
    {
     "name": "stdout",
     "output_type": "stream",
     "text": [
      "[[\"Empresa1\", \"2016-05-21\", \"2017-08-10\", \"2017-08-31\", \"2017-09-18\", \"2017-09-28\"], [\"Empresa2\", \"2017-06-16\", \"2017-07-05\", \"2017-07-20\", \"2017-12-04\", \"2017-12-19\"], [\"Empresa3\", \"2017-05-12\", \"2017-05-30\", \"2017-06-29\", \"2017-09-27\", \"2017-10-19\"], [\"Empresa4\", \"2017-07-06\", \"2017-10-10\", \"2017-12-07\", \"2017-12-15\", \"2017-12-29\"]]"
     ]
    }
   ],
   "source": [
    "# Crear objeto empresa\n",
    "\n",
    "f = File.open('empresas.csv', 'r')\n",
    "dat = f.readlines\n",
    "f.close\n",
    "\n",
    "dat = dat.map { |e| e.split(' ').map(&:chomp)}\n",
    "\n",
    "print dat"
   ]
  },
  {
   "cell_type": "code",
   "execution_count": null,
   "metadata": {
    "collapsed": true
   },
   "outputs": [],
   "source": [
    "class Empresa\n",
    "  def initialize(empresa, fecha)\n",
    "    @empresa = empresa\n",
    "    @fecha = fechax\n",
    "  \n",
    "end\n",
    "\n",
    "\n",
    "def past_payments(date)\n",
    "  "
   ]
  }
 ],
 "metadata": {
  "kernelspec": {
   "display_name": "Ruby 2.4.1",
   "language": "ruby",
   "name": "ruby"
  },
  "language_info": {
   "file_extension": ".rb",
   "mimetype": "application/x-ruby",
   "name": "ruby",
   "version": "2.4.1"
  }
 },
 "nbformat": 4,
 "nbformat_minor": 0
}
