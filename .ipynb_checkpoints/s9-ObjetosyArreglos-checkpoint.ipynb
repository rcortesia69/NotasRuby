{
 "cells": [
  {
   "cell_type": "markdown",
   "metadata": {},
   "source": [
    "# Arreglo de productos\n",
    "\n",
    "> Crear la clase __Product__, donde cada _producto_ tiene asociado tres colores."
   ]
  },
  {
   "cell_type": "code",
   "execution_count": null,
   "metadata": {
    "collapsed": false
   },
   "outputs": [],
   "source": [
    "# producto.rb\n",
    "\n",
    "class Product\n",
    "  attr_reader :red\n",
    "  def initialize(name, blue, red, green)\n",
    "    @name = name\n",
    "    @blue = blue.to_i\n",
    "    @red = red.to_i\n",
    "    @green = green.to_i\n",
    "  end\n",
    "  \n",
    "  def stock_total\n",
    "    @blue + @green + @red\n",
    "  end\n",
    "end\n",
    "\n"
   ]
  },
  {
   "cell_type": "code",
   "execution_count": null,
   "metadata": {
    "collapsed": false
   },
   "outputs": [],
   "source": [
    "# Leer archivo y crear arreglo de productos\n",
    "\n",
    "products = []\n",
    "f = File.open(\"Producto.csv\", 'r')\n",
    "dat = f.readlines\n",
    "f.close\n",
    "\n",
    "\n",
    "dat.each do |line|\n",
    "  name, blue, red, green = line.split(', ')\n",
    "  products << Product.new(name, blue, red, green)\n",
    "end"
   ]
  },
  {
   "cell_type": "code",
   "execution_count": null,
   "metadata": {
    "collapsed": false
   },
   "outputs": [],
   "source": [
    "print products"
   ]
  },
  {
   "cell_type": "code",
   "execution_count": null,
   "metadata": {
    "collapsed": false
   },
   "outputs": [],
   "source": [
    "# Mostrar stock de productos rojos\n",
    "\n",
    "products.each do |prod|\n",
    "  puts prod.red\n",
    "end"
   ]
  },
  {
   "cell_type": "code",
   "execution_count": null,
   "metadata": {
    "collapsed": false
   },
   "outputs": [],
   "source": [
    "# Mostrar stock total de rojo\n",
    "\n",
    "products.inject(0) {|c, x| c + x.red}"
   ]
  },
  {
   "cell_type": "code",
   "execution_count": null,
   "metadata": {
    "collapsed": false
   },
   "outputs": [],
   "source": [
    "# mostrar stock total de un producto\n",
    "\n",
    "products.inject(0) {|c, x| c + x.stock_total}"
   ]
  },
  {
   "cell_type": "markdown",
   "metadata": {},
   "source": [
    "# Ejercicio Estudiantes\n",
    "\n",
    "> Crear la clase _Student_, donde cada alumno tiene un nombre y notas del 1 $\\rightarrow$ 10."
   ]
  },
  {
   "cell_type": "code",
   "execution_count": null,
   "metadata": {
    "collapsed": false
   },
   "outputs": [],
   "source": [
    "# students.rb\n",
    "\n",
    "class Student\n",
    "  def initialize(name, scores)\n",
    "    @name = name\n",
    "    @scores = scores.map(&:to_i)\n",
    "  end\n",
    "end"
   ]
  },
  {
   "cell_type": "code",
   "execution_count": null,
   "metadata": {
    "collapsed": false
   },
   "outputs": [],
   "source": [
    "# leer archivo\n",
    "\n",
    "students = []\n",
    "f = File.open(\"estudiantes.csv\", 'r')\n",
    "dat = f.readlines\n",
    "f.close\n",
    "\n",
    "dat.each do |l|\n",
    "  ls = l.split(', ')\n",
    "  name = ls[0]\n",
    "  scores = ls[1..ls.size]\n",
    "  students << Student.new(name,scores)\n",
    "end\n",
    "\n",
    "print students"
   ]
  },
  {
   "cell_type": "code",
   "execution_count": null,
   "metadata": {
    "collapsed": false
   },
   "outputs": [],
   "source": [
    "# redo con splat en initlialize y en el push\n",
    "\n",
    "class Student\n",
    "  def initialize(name, *scores)\n",
    "    @name = name\n",
    "    @scores = scores.map(&:to_i)\n",
    "  end\n",
    "end\n",
    "\n",
    "\n",
    "\n",
    "students = []\n",
    "dat.each do |l|\n",
    "  ls = l.split(', ')\n",
    "  students << Student.new(*ls)\n",
    "end\n",
    "\n",
    "print students"
   ]
  },
  {
   "cell_type": "code",
   "execution_count": null,
   "metadata": {
    "collapsed": false
   },
   "outputs": [],
   "source": [
    "# crear promedio\n",
    "# se agrega el método de instancia average.\n",
    "# se agrega attr_reader en class Student\n",
    "\n",
    "\n",
    "class Student\n",
    "  attr_reader :name\n",
    "  def initialize(name, *scores)\n",
    "    @name = name\n",
    "    @scores = scores.map(&:to_i)\n",
    "  end\n",
    "  \n",
    "  def average\n",
    "    @scores.inject(&:+) / @scores.size.to_f\n",
    "  end\n",
    "end\n",
    "\n",
    "students.each do |stu|\n",
    "  puts stu.name\n",
    "  puts stu.average\n",
    "end"
   ]
  },
  {
   "cell_type": "markdown",
   "metadata": {},
   "source": [
    "# Promedio de Promedios"
   ]
  },
  {
   "cell_type": "code",
   "execution_count": null,
   "metadata": {
    "collapsed": false
   },
   "outputs": [],
   "source": [
    "print (students.map(&:average).inject(&:+)) /3"
   ]
  },
  {
   "cell_type": "markdown",
   "metadata": {},
   "source": [
    "# Objeto Date"
   ]
  },
  {
   "cell_type": "code",
   "execution_count": null,
   "metadata": {
    "collapsed": false
   },
   "outputs": [],
   "source": [
    "require 'date'"
   ]
  },
  {
   "cell_type": "markdown",
   "metadata": {},
   "source": [
    "#### Fecha del dia"
   ]
  },
  {
   "cell_type": "code",
   "execution_count": null,
   "metadata": {
    "collapsed": false
   },
   "outputs": [],
   "source": [
    "a = Date.today"
   ]
  },
  {
   "cell_type": "code",
   "execution_count": null,
   "metadata": {
    "collapsed": false
   },
   "outputs": [],
   "source": [
    "Date.parse(\"2012-12-12\")"
   ]
  },
  {
   "cell_type": "code",
   "execution_count": null,
   "metadata": {
    "collapsed": false
   },
   "outputs": [],
   "source": [
    "Date.parse(\"2012-12-12\") > a"
   ]
  },
  {
   "cell_type": "markdown",
   "metadata": {},
   "source": [
    "# Objetos, archivos y fechas\n",
    "\n",
    "> Con el archivo empresas.csv."
   ]
  },
  {
   "cell_type": "code",
   "execution_count": 19,
   "metadata": {
    "collapsed": false
   },
   "outputs": [
    {
     "data": {
      "text/plain": [
       ":following_payments"
      ]
     },
     "execution_count": 19,
     "metadata": {},
     "output_type": "execute_result"
    }
   ],
   "source": [
    "require 'date'\n",
    "\n",
    "class Company\n",
    "  def initialize(name, *payments)\n",
    "    @name = name\n",
    "    @payments = payments.map { |e| Date.parse(e)}\n",
    "  end\n",
    "  \n",
    "  def previous_payments(cutpoint)\n",
    "    raise ArgumentError.new('cutpoint is not a valid date') if cutpoint.class != Date\n",
    "    @payments.select {|date| date < cutpoint}\n",
    "  end\n",
    "  \n",
    "  # tarea\n",
    "  \n",
    "  def following_payments(cutpoint)\n",
    "    raise ArgumentError.new('cutpoint is not a valid date') if cutpoint.class != Date\n",
    "    @payments.select { |date| date > cutpoint}\n",
    "  end\n",
    "end"
   ]
  },
  {
   "cell_type": "code",
   "execution_count": 20,
   "metadata": {
    "collapsed": false
   },
   "outputs": [
    {
     "name": "stdout",
     "output_type": "stream",
     "text": [
      "[\"Empresa1\", \"2016-05-21\", \"2017-08-10\", \"2017-08-31\", \"2017-09-18\", \"2017-09-28\"][\"Empresa2\", \"2017-06-16\", \"2017-07-05\", \"2017-07-20\", \"2017-12-04\", \"2017-12-19\"][\"Empresa3\", \"2017-05-12\", \"2017-05-30\", \"2017-06-29\", \"2017-09-27\", \"2017-10-19\"][\"Empresa4\", \"2017-07-06\", \"2017-10-10\", \"2017-12-07\", \"2017-12-15\", \"2017-12-29\"]"
     ]
    },
    {
     "data": {
      "text/plain": [
       "[\"Empresa1 2016-05-21 2017-08-10 2017-08-31 2017-09-18 2017-09-28\\n\", \"Empresa2 2017-06-16 2017-07-05 2017-07-20 2017-12-04 2017-12-19\\n\", \"Empresa3 2017-05-12 2017-05-30 2017-06-29 2017-09-27 2017-10-19\\n\", \"Empresa4 2017-07-06 2017-10-10 2017-12-07 2017-12-15 2017-12-29\\n\"]"
      ]
     },
     "execution_count": 20,
     "metadata": {},
     "output_type": "execute_result"
    }
   ],
   "source": [
    "# Crear objeto empresa\n",
    "\n",
    "f = File.open('empresas.csv', 'r')\n",
    "dat = f.readlines\n",
    "f.close\n",
    "\n",
    "companies = []\n",
    "dat.each do |l|\n",
    "  ls = l.split(' ')\n",
    "  companies << Company.new(*ls)\n",
    "  print ls\n",
    "end"
   ]
  },
  {
   "cell_type": "code",
   "execution_count": 21,
   "metadata": {
    "collapsed": false
   },
   "outputs": [
    {
     "data": {
      "text/plain": [
       "[#<Date: 2017-06-16 ((2457921j,0s,0n),+0s,2299161j)>]"
      ]
     },
     "execution_count": 21,
     "metadata": {},
     "output_type": "execute_result"
    }
   ],
   "source": [
    "companies[1].previous_payments(Date.today)"
   ]
  },
  {
   "cell_type": "code",
   "execution_count": 22,
   "metadata": {
    "collapsed": false
   },
   "outputs": [
    {
     "data": {
      "text/plain": [
       "[#<Date: 2016-05-21 ((2457530j,0s,0n),+0s,2299161j)>]"
      ]
     },
     "execution_count": 22,
     "metadata": {},
     "output_type": "execute_result"
    }
   ],
   "source": [
    "companies[0].previous_payments(Date.today)"
   ]
  },
  {
   "cell_type": "code",
   "execution_count": 23,
   "metadata": {
    "collapsed": false
   },
   "outputs": [
    {
     "data": {
      "text/plain": [
       "[#<Date: 2017-05-12 ((2457886j,0s,0n),+0s,2299161j)>, #<Date: 2017-05-30 ((2457904j,0s,0n),+0s,2299161j)>, #<Date: 2017-06-29 ((2457934j,0s,0n),+0s,2299161j)>]"
      ]
     },
     "execution_count": 23,
     "metadata": {},
     "output_type": "execute_result"
    }
   ],
   "source": [
    "companies[2].previous_payments(Date.today)"
   ]
  },
  {
   "cell_type": "code",
   "execution_count": 24,
   "metadata": {
    "collapsed": false
   },
   "outputs": [
    {
     "ename": "ArgumentError",
     "evalue": "cutpoint is not a valid date",
     "output_type": "error",
     "traceback": [
      "\u001b[31mArgumentError\u001b[0m: cutpoint is not a valid date",
      "\u001b[37m<main>:9:in `previous_payments'\u001b[0m",
      "\u001b[37m<main>:in `<main>'\u001b[0m",
      "\u001b[37m/Users/gncstzmr-wrkstt/.rvm/gems/ruby-2.4.1/gems/iruby-0.3/lib/iruby/backend.rb:44:in `eval'\u001b[0m",
      "\u001b[37m/Users/gncstzmr-wrkstt/.rvm/gems/ruby-2.4.1/gems/iruby-0.3/lib/iruby/backend.rb:44:in `eval'\u001b[0m",
      "\u001b[37m/Users/gncstzmr-wrkstt/.rvm/gems/ruby-2.4.1/gems/iruby-0.3/lib/iruby/backend.rb:12:in `eval'\u001b[0m",
      "\u001b[37m/Users/gncstzmr-wrkstt/.rvm/gems/ruby-2.4.1/gems/iruby-0.3/lib/iruby/kernel.rb:87:in `execute_request'\u001b[0m",
      "\u001b[37m/Users/gncstzmr-wrkstt/.rvm/gems/ruby-2.4.1/gems/iruby-0.3/lib/iruby/kernel.rb:47:in `dispatch'\u001b[0m",
      "\u001b[37m/Users/gncstzmr-wrkstt/.rvm/gems/ruby-2.4.1/gems/iruby-0.3/lib/iruby/kernel.rb:37:in `run'\u001b[0m",
      "\u001b[37m/Users/gncstzmr-wrkstt/.rvm/gems/ruby-2.4.1/gems/iruby-0.3/lib/iruby/command.rb:70:in `run_kernel'\u001b[0m",
      "\u001b[37m/Users/gncstzmr-wrkstt/.rvm/gems/ruby-2.4.1/gems/iruby-0.3/lib/iruby/command.rb:34:in `run'\u001b[0m",
      "\u001b[37m/Users/gncstzmr-wrkstt/.rvm/gems/ruby-2.4.1/gems/iruby-0.3/bin/iruby:5:in `<top (required)>'\u001b[0m",
      "\u001b[37m/Users/gncstzmr-wrkstt/.rvm/gems/ruby-2.4.1/bin/iruby:22:in `load'\u001b[0m",
      "\u001b[37m/Users/gncstzmr-wrkstt/.rvm/gems/ruby-2.4.1/bin/iruby:22:in `<main>'\u001b[0m",
      "\u001b[37m/Users/gncstzmr-wrkstt/.rvm/gems/ruby-2.4.1/bin/ruby_executable_hooks:15:in `eval'\u001b[0m",
      "\u001b[37m/Users/gncstzmr-wrkstt/.rvm/gems/ruby-2.4.1/bin/ruby_executable_hooks:15:in `<main>'\u001b[0m"
     ]
    }
   ],
   "source": [
    "companies[2].previous_payments(\"Gato\")\n",
    "\n",
    "# pucha :("
   ]
  },
  {
   "cell_type": "code",
   "execution_count": 34,
   "metadata": {
    "collapsed": false
   },
   "outputs": [
    {
     "name": "stdout",
     "output_type": "stream",
     "text": [
      "\n",
      "[#<Date: 2017-08-10 ((2457976j,0s,0n),+0s,2299161j)>, #<Date: 2017-08-31 ((2457997j,0s,0n),+0s,2299161j)>, #<Date: 2017-09-18 ((2458015j,0s,0n),+0s,2299161j)>, #<Date: 2017-09-28 ((2458025j,0s,0n),+0s,2299161j)>]\n",
      "\n",
      "[#<Date: 2017-07-05 ((2457940j,0s,0n),+0s,2299161j)>, #<Date: 2017-07-20 ((2457955j,0s,0n),+0s,2299161j)>, #<Date: 2017-12-04 ((2458092j,0s,0n),+0s,2299161j)>, #<Date: 2017-12-19 ((2458107j,0s,0n),+0s,2299161j)>]\n",
      "\n",
      "[#<Date: 2017-09-27 ((2458024j,0s,0n),+0s,2299161j)>, #<Date: 2017-10-19 ((2458046j,0s,0n),+0s,2299161j)>]\n",
      "\n",
      "[#<Date: 2017-07-06 ((2457941j,0s,0n),+0s,2299161j)>, #<Date: 2017-10-10 ((2458037j,0s,0n),+0s,2299161j)>, #<Date: 2017-12-07 ((2458095j,0s,0n),+0s,2299161j)>, #<Date: 2017-12-15 ((2458103j,0s,0n),+0s,2299161j)>, #<Date: 2017-12-29 ((2458117j,0s,0n),+0s,2299161j)>]\n"
     ]
    },
    {
     "data": {
      "text/plain": [
       "[#<Company:0x007ff6e50d25a8 @name=\"Empresa1\", @payments=[#<Date: 2016-05-21 ((2457530j,0s,0n),+0s,2299161j)>, #<Date: 2017-08-10 ((2457976j,0s,0n),+0s,2299161j)>, #<Date: 2017-08-31 ((2457997j,0s,0n),+0s,2299161j)>, #<Date: 2017-09-18 ((2458015j,0s,0n),+0s,2299161j)>, #<Date: 2017-09-28 ((2458025j,0s,0n),+0s,2299161j)>]>, #<Company:0x007ff6e50cb910 @name=\"Empresa2\", @payments=[#<Date: 2017-06-16 ((2457921j,0s,0n),+0s,2299161j)>, #<Date: 2017-07-05 ((2457940j,0s,0n),+0s,2299161j)>, #<Date: 2017-07-20 ((2457955j,0s,0n),+0s,2299161j)>, #<Date: 2017-12-04 ((2458092j,0s,0n),+0s,2299161j)>, #<Date: 2017-12-19 ((2458107j,0s,0n),+0s,2299161j)>]>, #<Company:0x007ff6e50c8b20 @name=\"Empresa3\", @payments=[#<Date: 2017-05-12 ((2457886j,0s,0n),+0s,2299161j)>, #<Date: 2017-05-30 ((2457904j,0s,0n),+0s,2299161j)>, #<Date: 2017-06-29 ((2457934j,0s,0n),+0s,2299161j)>, #<Date: 2017-09-27 ((2458024j,0s,0n),+0s,2299161j)>, #<Date: 2017-10-19 ((2458046j,0s,0n),+0s,2299161j)>]>, #<Company:0x007ff6e6805f68 @name=\"Empresa4\", @payments=[#<Date: 2017-07-06 ((2457941j,0s,0n),+0s,2299161j)>, #<Date: 2017-10-10 ((2458037j,0s,0n),+0s,2299161j)>, #<Date: 2017-12-07 ((2458095j,0s,0n),+0s,2299161j)>, #<Date: 2017-12-15 ((2458103j,0s,0n),+0s,2299161j)>, #<Date: 2017-12-29 ((2458117j,0s,0n),+0s,2299161j)>]>]"
      ]
     },
     "execution_count": 34,
     "metadata": {},
     "output_type": "execute_result"
    }
   ],
   "source": [
    "# tarea.\n",
    "\n",
    "companies.each do |i|\n",
    "  puts \"#{@name}\"\n",
    "  puts i.following_payments(Date.today)\n",
    "end\n"
   ]
  },
  {
   "cell_type": "code",
   "execution_count": null,
   "metadata": {
    "collapsed": true
   },
   "outputs": [],
   "source": []
  }
 ],
 "metadata": {
  "kernelspec": {
   "display_name": "Ruby 2.4.1",
   "language": "ruby",
   "name": "ruby"
  },
  "language_info": {
   "file_extension": ".rb",
   "mimetype": "application/x-ruby",
   "name": "ruby",
   "version": "2.4.1"
  }
 },
 "nbformat": 4,
 "nbformat_minor": 0
}
